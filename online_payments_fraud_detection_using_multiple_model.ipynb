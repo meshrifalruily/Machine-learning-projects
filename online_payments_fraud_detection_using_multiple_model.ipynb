{
  "metadata": {
    "kernelspec": {
      "language": "python",
      "display_name": "Python 3",
      "name": "python3"
    },
    "language_info": {
      "name": "python",
      "version": "3.10.13",
      "mimetype": "text/x-python",
      "codemirror_mode": {
        "name": "ipython",
        "version": 3
      },
      "pygments_lexer": "ipython3",
      "nbconvert_exporter": "python",
      "file_extension": ".py"
    },
    "kaggle": {
      "accelerator": "none",
      "dataSources": [
        {
          "sourceId": 3478314,
          "sourceType": "datasetVersion",
          "datasetId": 2093649
        }
      ],
      "dockerImageVersionId": 30698,
      "isInternetEnabled": false,
      "language": "python",
      "sourceType": "notebook",
      "isGpuEnabled": false
    },
    "colab": {
      "provenance": [],
      "include_colab_link": true
    }
  },
  "nbformat_minor": 0,
  "nbformat": 4,
  "cells": [
    {
      "cell_type": "markdown",
      "metadata": {
        "id": "view-in-github",
        "colab_type": "text"
      },
      "source": [
        "<a href=\"https://colab.research.google.com/github/meshrifalruily/Machine-learning-projects/blob/main/online_payments_fraud_detection_using_multiple_model.ipynb\" target=\"_parent\"><img src=\"https://colab.research.google.com/assets/colab-badge.svg\" alt=\"Open In Colab\"/></a>"
      ]
    },
    {
      "source": [
        "\n",
        "# IMPORTANT: RUN THIS CELL IN ORDER TO IMPORT YOUR KAGGLE DATA SOURCES\n",
        "# TO THE CORRECT LOCATION (/kaggle/input) IN YOUR NOTEBOOK,\n",
        "# THEN FEEL FREE TO DELETE THIS CELL.\n",
        "# NOTE: THIS NOTEBOOK ENVIRONMENT DIFFERS FROM KAGGLE'S PYTHON\n",
        "# ENVIRONMENT SO THERE MAY BE MISSING LIBRARIES USED BY YOUR\n",
        "# NOTEBOOK.\n",
        "\n",
        "import os\n",
        "import sys\n",
        "from tempfile import NamedTemporaryFile\n",
        "from urllib.request import urlopen\n",
        "from urllib.parse import unquote, urlparse\n",
        "from urllib.error import HTTPError\n",
        "from zipfile import ZipFile\n",
        "import tarfile\n",
        "import shutil\n",
        "\n",
        "CHUNK_SIZE = 40960\n",
        "DATA_SOURCE_MAPPING = 'online-payments-fraud-detection-dataset:https%3A%2F%2Fstorage.googleapis.com%2Fkaggle-data-sets%2F2093649%2F3478314%2Fbundle%2Farchive.zip%3FX-Goog-Algorithm%3DGOOG4-RSA-SHA256%26X-Goog-Credential%3Dgcp-kaggle-com%2540kaggle-161607.iam.gserviceaccount.com%252F20240427%252Fauto%252Fstorage%252Fgoog4_request%26X-Goog-Date%3D20240427T125955Z%26X-Goog-Expires%3D259200%26X-Goog-SignedHeaders%3Dhost%26X-Goog-Signature%3Da0b80d4b5caf33748f9f16de2057455a0db83d807e9544f8ba3e0bffc31983a0ef1f5e2133c5a1ed3d2267213f5d3fb3d17be2b1f252b5c1f5f0aabc18372a4c15cdceb4f0aeb395384e98926c93c1d5e757ddec2731455ef73efa67a99181eddbe319e6182db5ca9e6342ecddcfb5fa8d1046be8823613fbde1730b87c3d6f509e13084679235560efa02b3810f2b5826af37e74482f627fa3f2c475fb9d4f017141947e5ed799ec56f5ab03ea8443cc80ca1ff36bff1b9746788e6857eb72e327156b321fad261cd742687529c6525ae64c62c3331efc72eff55102195db22600e28f6f73cc1ac9b06c37316c0a1c1089e43a9f66287a7261384ad12449b5c'\n",
        "\n",
        "KAGGLE_INPUT_PATH='/kaggle/input'\n",
        "KAGGLE_WORKING_PATH='/kaggle/working'\n",
        "KAGGLE_SYMLINK='kaggle'\n",
        "\n",
        "!umount /kaggle/input/ 2> /dev/null\n",
        "shutil.rmtree('/kaggle/input', ignore_errors=True)\n",
        "os.makedirs(KAGGLE_INPUT_PATH, 0o777, exist_ok=True)\n",
        "os.makedirs(KAGGLE_WORKING_PATH, 0o777, exist_ok=True)\n",
        "\n",
        "try:\n",
        "  os.symlink(KAGGLE_INPUT_PATH, os.path.join(\"..\", 'input'), target_is_directory=True)\n",
        "except FileExistsError:\n",
        "  pass\n",
        "try:\n",
        "  os.symlink(KAGGLE_WORKING_PATH, os.path.join(\"..\", 'working'), target_is_directory=True)\n",
        "except FileExistsError:\n",
        "  pass\n",
        "\n",
        "for data_source_mapping in DATA_SOURCE_MAPPING.split(','):\n",
        "    directory, download_url_encoded = data_source_mapping.split(':')\n",
        "    download_url = unquote(download_url_encoded)\n",
        "    filename = urlparse(download_url).path\n",
        "    destination_path = os.path.join(KAGGLE_INPUT_PATH, directory)\n",
        "    try:\n",
        "        with urlopen(download_url) as fileres, NamedTemporaryFile() as tfile:\n",
        "            total_length = fileres.headers['content-length']\n",
        "            print(f'Downloading {directory}, {total_length} bytes compressed')\n",
        "            dl = 0\n",
        "            data = fileres.read(CHUNK_SIZE)\n",
        "            while len(data) > 0:\n",
        "                dl += len(data)\n",
        "                tfile.write(data)\n",
        "                done = int(50 * dl / int(total_length))\n",
        "                sys.stdout.write(f\"\\r[{'=' * done}{' ' * (50-done)}] {dl} bytes downloaded\")\n",
        "                sys.stdout.flush()\n",
        "                data = fileres.read(CHUNK_SIZE)\n",
        "            if filename.endswith('.zip'):\n",
        "              with ZipFile(tfile) as zfile:\n",
        "                zfile.extractall(destination_path)\n",
        "            else:\n",
        "              with tarfile.open(tfile.name) as tarfile:\n",
        "                tarfile.extractall(destination_path)\n",
        "            print(f'\\nDownloaded and uncompressed: {directory}')\n",
        "    except HTTPError as e:\n",
        "        print(f'Failed to load (likely expired) {download_url} to path {destination_path}')\n",
        "        continue\n",
        "    except OSError as e:\n",
        "        print(f'Failed to load {download_url} to path {destination_path}')\n",
        "        continue\n",
        "\n",
        "print('Data source import complete.')\n"
      ],
      "metadata": {
        "id": "g6EfVqCDpBsq"
      },
      "cell_type": "code",
      "outputs": [],
      "execution_count": null
    },
    {
      "cell_type": "code",
      "source": [
        "# This Python 3 environment comes with many helpful analytics libraries installed\n",
        "# It is defined by the kaggle/python Docker image: https://github.com/kaggle/docker-python\n",
        "# For example, here's several helpful packages to load\n",
        "\n",
        "import numpy as np # linear algebra\n",
        "import pandas as pd # data processing, CSV file I/O (e.g. pd.read_csv)\n",
        "\n",
        "# Input data files are available in the read-only \"../input/\" directory\n",
        "# For example, running this (by clicking run or pressing Shift+Enter) will list all files under the input directory\n",
        "\n"
      ],
      "metadata": {
        "_uuid": "8f2839f25d086af736a60e9eeb907d3b93b6e0e5",
        "_cell_guid": "b1076dfc-b9ad-4769-8c92-a6c4dae69d19",
        "execution": {
          "iopub.status.busy": "2024-04-27T11:12:12.972924Z",
          "iopub.execute_input": "2024-04-27T11:12:12.973713Z",
          "iopub.status.idle": "2024-04-27T11:12:14.346293Z",
          "shell.execute_reply.started": "2024-04-27T11:12:12.973675Z",
          "shell.execute_reply": "2024-04-27T11:12:14.345192Z"
        },
        "trusted": true,
        "id": "1p5plzdepBsw"
      },
      "execution_count": null,
      "outputs": []
    },
    {
      "cell_type": "code",
      "source": [
        "data = pd.read_csv('/kaggle/input/online-payments-fraud-detection-dataset/PS_20174392719_1491204439457_log.csv')\n",
        "data.head(2)"
      ],
      "metadata": {
        "execution": {
          "iopub.status.busy": "2024-04-27T11:12:58.202503Z",
          "iopub.execute_input": "2024-04-27T11:12:58.202892Z",
          "iopub.status.idle": "2024-04-27T11:13:23.604975Z",
          "shell.execute_reply.started": "2024-04-27T11:12:58.202863Z",
          "shell.execute_reply": "2024-04-27T11:13:23.603631Z"
        },
        "trusted": true,
        "id": "J8onesrnpBsx",
        "outputId": "60782600-8d93-4148-a610-e3cfac98e7db"
      },
      "execution_count": null,
      "outputs": [
        {
          "execution_count": 2,
          "output_type": "execute_result",
          "data": {
            "text/plain": "   step     type   amount     nameOrig  oldbalanceOrg  newbalanceOrig  \\\n0     1  PAYMENT  9839.64  C1231006815       170136.0       160296.36   \n1     1  PAYMENT  1864.28  C1666544295        21249.0        19384.72   \n\n      nameDest  oldbalanceDest  newbalanceDest  isFraud  isFlaggedFraud  \n0  M1979787155             0.0             0.0        0               0  \n1  M2044282225             0.0             0.0        0               0  ",
            "text/html": "<div>\n<style scoped>\n    .dataframe tbody tr th:only-of-type {\n        vertical-align: middle;\n    }\n\n    .dataframe tbody tr th {\n        vertical-align: top;\n    }\n\n    .dataframe thead th {\n        text-align: right;\n    }\n</style>\n<table border=\"1\" class=\"dataframe\">\n  <thead>\n    <tr style=\"text-align: right;\">\n      <th></th>\n      <th>step</th>\n      <th>type</th>\n      <th>amount</th>\n      <th>nameOrig</th>\n      <th>oldbalanceOrg</th>\n      <th>newbalanceOrig</th>\n      <th>nameDest</th>\n      <th>oldbalanceDest</th>\n      <th>newbalanceDest</th>\n      <th>isFraud</th>\n      <th>isFlaggedFraud</th>\n    </tr>\n  </thead>\n  <tbody>\n    <tr>\n      <th>0</th>\n      <td>1</td>\n      <td>PAYMENT</td>\n      <td>9839.64</td>\n      <td>C1231006815</td>\n      <td>170136.0</td>\n      <td>160296.36</td>\n      <td>M1979787155</td>\n      <td>0.0</td>\n      <td>0.0</td>\n      <td>0</td>\n      <td>0</td>\n    </tr>\n    <tr>\n      <th>1</th>\n      <td>1</td>\n      <td>PAYMENT</td>\n      <td>1864.28</td>\n      <td>C1666544295</td>\n      <td>21249.0</td>\n      <td>19384.72</td>\n      <td>M2044282225</td>\n      <td>0.0</td>\n      <td>0.0</td>\n      <td>0</td>\n      <td>0</td>\n    </tr>\n  </tbody>\n</table>\n</div>"
          },
          "metadata": {}
        }
      ]
    },
    {
      "cell_type": "code",
      "source": [
        "data.info()"
      ],
      "metadata": {
        "execution": {
          "iopub.status.busy": "2024-04-27T11:17:54.935936Z",
          "iopub.execute_input": "2024-04-27T11:17:54.936385Z",
          "iopub.status.idle": "2024-04-27T11:17:54.948049Z",
          "shell.execute_reply.started": "2024-04-27T11:17:54.93635Z",
          "shell.execute_reply": "2024-04-27T11:17:54.94671Z"
        },
        "trusted": true,
        "id": "MI08HtKGpBsy",
        "outputId": "c757f9c9-421f-4390-8d19-93bcd5283e3f"
      },
      "execution_count": null,
      "outputs": [
        {
          "name": "stdout",
          "text": "<class 'pandas.core.frame.DataFrame'>\nRangeIndex: 6362620 entries, 0 to 6362619\nData columns (total 11 columns):\n #   Column          Dtype  \n---  ------          -----  \n 0   step            int64  \n 1   type            object \n 2   amount          float64\n 3   nameOrig        object \n 4   oldbalanceOrg   float64\n 5   newbalanceOrig  float64\n 6   nameDest        object \n 7   oldbalanceDest  float64\n 8   newbalanceDest  float64\n 9   isFraud         int64  \n 10  isFlaggedFraud  int64  \ndtypes: float64(5), int64(3), object(3)\nmemory usage: 534.0+ MB\n",
          "output_type": "stream"
        }
      ]
    },
    {
      "cell_type": "code",
      "source": [
        "data.to_parquet('fraud_detection.parquet')"
      ],
      "metadata": {
        "execution": {
          "iopub.status.busy": "2024-04-27T11:14:38.497394Z",
          "iopub.execute_input": "2024-04-27T11:14:38.497848Z",
          "iopub.status.idle": "2024-04-27T11:14:45.5211Z",
          "shell.execute_reply.started": "2024-04-27T11:14:38.497815Z",
          "shell.execute_reply": "2024-04-27T11:14:45.520194Z"
        },
        "trusted": true,
        "id": "5tCl-P2YpBsz"
      },
      "execution_count": null,
      "outputs": []
    },
    {
      "cell_type": "code",
      "source": [
        "df = pd.read_parquet('/kaggle/working/fraud_detection.parquet')\n",
        "df.head(2)"
      ],
      "metadata": {
        "execution": {
          "iopub.status.busy": "2024-04-27T11:16:50.070021Z",
          "iopub.execute_input": "2024-04-27T11:16:50.070463Z",
          "iopub.status.idle": "2024-04-27T11:16:57.303045Z",
          "shell.execute_reply.started": "2024-04-27T11:16:50.070431Z",
          "shell.execute_reply": "2024-04-27T11:16:57.3022Z"
        },
        "trusted": true,
        "id": "WfDeSvx2pBsz",
        "outputId": "5bc8741c-6665-4a9b-83ed-731fc0d4a885"
      },
      "execution_count": null,
      "outputs": [
        {
          "execution_count": 6,
          "output_type": "execute_result",
          "data": {
            "text/plain": "   step     type   amount     nameOrig  oldbalanceOrg  newbalanceOrig  \\\n0     1  PAYMENT  9839.64  C1231006815       170136.0       160296.36   \n1     1  PAYMENT  1864.28  C1666544295        21249.0        19384.72   \n\n      nameDest  oldbalanceDest  newbalanceDest  isFraud  isFlaggedFraud  \n0  M1979787155             0.0             0.0        0               0  \n1  M2044282225             0.0             0.0        0               0  ",
            "text/html": "<div>\n<style scoped>\n    .dataframe tbody tr th:only-of-type {\n        vertical-align: middle;\n    }\n\n    .dataframe tbody tr th {\n        vertical-align: top;\n    }\n\n    .dataframe thead th {\n        text-align: right;\n    }\n</style>\n<table border=\"1\" class=\"dataframe\">\n  <thead>\n    <tr style=\"text-align: right;\">\n      <th></th>\n      <th>step</th>\n      <th>type</th>\n      <th>amount</th>\n      <th>nameOrig</th>\n      <th>oldbalanceOrg</th>\n      <th>newbalanceOrig</th>\n      <th>nameDest</th>\n      <th>oldbalanceDest</th>\n      <th>newbalanceDest</th>\n      <th>isFraud</th>\n      <th>isFlaggedFraud</th>\n    </tr>\n  </thead>\n  <tbody>\n    <tr>\n      <th>0</th>\n      <td>1</td>\n      <td>PAYMENT</td>\n      <td>9839.64</td>\n      <td>C1231006815</td>\n      <td>170136.0</td>\n      <td>160296.36</td>\n      <td>M1979787155</td>\n      <td>0.0</td>\n      <td>0.0</td>\n      <td>0</td>\n      <td>0</td>\n    </tr>\n    <tr>\n      <th>1</th>\n      <td>1</td>\n      <td>PAYMENT</td>\n      <td>1864.28</td>\n      <td>C1666544295</td>\n      <td>21249.0</td>\n      <td>19384.72</td>\n      <td>M2044282225</td>\n      <td>0.0</td>\n      <td>0.0</td>\n      <td>0</td>\n      <td>0</td>\n    </tr>\n  </tbody>\n</table>\n</div>"
          },
          "metadata": {}
        }
      ]
    },
    {
      "cell_type": "code",
      "source": [
        "df.isnull().sum()"
      ],
      "metadata": {
        "execution": {
          "iopub.status.busy": "2024-04-27T11:18:17.94639Z",
          "iopub.execute_input": "2024-04-27T11:18:17.94678Z",
          "iopub.status.idle": "2024-04-27T11:18:20.299297Z",
          "shell.execute_reply.started": "2024-04-27T11:18:17.94675Z",
          "shell.execute_reply": "2024-04-27T11:18:20.29818Z"
        },
        "trusted": true,
        "id": "BxwNA6cgpBsz",
        "outputId": "16098e03-cd80-43d7-bc3c-477a6600d74d"
      },
      "execution_count": null,
      "outputs": [
        {
          "execution_count": 9,
          "output_type": "execute_result",
          "data": {
            "text/plain": "step              0\ntype              0\namount            0\nnameOrig          0\noldbalanceOrg     0\nnewbalanceOrig    0\nnameDest          0\noldbalanceDest    0\nnewbalanceDest    0\nisFraud           0\nisFlaggedFraud    0\ndtype: int64"
          },
          "metadata": {}
        }
      ]
    },
    {
      "cell_type": "code",
      "source": [
        "df.duplicated().sum()"
      ],
      "metadata": {
        "execution": {
          "iopub.status.busy": "2024-04-27T11:18:37.89515Z",
          "iopub.execute_input": "2024-04-27T11:18:37.895575Z",
          "iopub.status.idle": "2024-04-27T11:18:53.400386Z",
          "shell.execute_reply.started": "2024-04-27T11:18:37.895533Z",
          "shell.execute_reply": "2024-04-27T11:18:53.399175Z"
        },
        "trusted": true,
        "id": "6aMiHbKcpBs0",
        "outputId": "19e279ae-fc2e-442d-87ed-7364bcbbfe12"
      },
      "execution_count": null,
      "outputs": [
        {
          "execution_count": 10,
          "output_type": "execute_result",
          "data": {
            "text/plain": "0"
          },
          "metadata": {}
        }
      ]
    },
    {
      "cell_type": "code",
      "source": [
        "df.dtypes.value_counts()"
      ],
      "metadata": {
        "execution": {
          "iopub.status.busy": "2024-04-27T11:19:53.807668Z",
          "iopub.execute_input": "2024-04-27T11:19:53.808062Z",
          "iopub.status.idle": "2024-04-27T11:19:53.819296Z",
          "shell.execute_reply.started": "2024-04-27T11:19:53.808027Z",
          "shell.execute_reply": "2024-04-27T11:19:53.817405Z"
        },
        "trusted": true,
        "id": "v17RXSGMpBs1",
        "outputId": "46a4a05d-7ceb-48cb-ba80-0d7ff4c38adb"
      },
      "execution_count": null,
      "outputs": [
        {
          "execution_count": 12,
          "output_type": "execute_result",
          "data": {
            "text/plain": "float64    5\nint64      3\nobject     3\nName: count, dtype: int64"
          },
          "metadata": {}
        }
      ]
    },
    {
      "cell_type": "code",
      "source": [
        "df.select_dtypes('object').columns"
      ],
      "metadata": {
        "execution": {
          "iopub.status.busy": "2024-04-27T11:24:53.725841Z",
          "iopub.execute_input": "2024-04-27T11:24:53.727457Z",
          "iopub.status.idle": "2024-04-27T11:24:54.516867Z",
          "shell.execute_reply.started": "2024-04-27T11:24:53.727408Z",
          "shell.execute_reply": "2024-04-27T11:24:54.515667Z"
        },
        "trusted": true,
        "id": "_lNLilh8pBs1",
        "outputId": "397d80c9-540a-4bac-d23e-65b417e947c1"
      },
      "execution_count": null,
      "outputs": [
        {
          "execution_count": 16,
          "output_type": "execute_result",
          "data": {
            "text/plain": "Index(['type', 'nameOrig', 'nameDest'], dtype='object')"
          },
          "metadata": {}
        }
      ]
    },
    {
      "cell_type": "code",
      "source": [
        "def types_count(col):\n",
        "    return df[col].value_counts()\n",
        "\n",
        "for col in df.select_dtypes('object').columns:\n",
        "    print(types_count(col))\n",
        "    print('#'*50)"
      ],
      "metadata": {
        "execution": {
          "iopub.status.busy": "2024-04-27T11:26:43.531548Z",
          "iopub.execute_input": "2024-04-27T11:26:43.532056Z",
          "iopub.status.idle": "2024-04-27T11:26:58.72586Z",
          "shell.execute_reply.started": "2024-04-27T11:26:43.532015Z",
          "shell.execute_reply": "2024-04-27T11:26:58.724499Z"
        },
        "trusted": true,
        "id": "SnKHD4aKpBs1",
        "outputId": "a1bb33fa-5c6a-49bd-e4d0-b98ef0619245"
      },
      "execution_count": null,
      "outputs": [
        {
          "name": "stdout",
          "text": "type\nCASH_OUT    2237500\nPAYMENT     2151495\nCASH_IN     1399284\nTRANSFER     532909\nDEBIT         41432\nName: count, dtype: int64\n##################################################\nnameOrig\nC1902386530    3\nC363736674     3\nC545315117     3\nC724452879     3\nC1784010646    3\n              ..\nC98968405      1\nC720209255     1\nC1567523029    1\nC644777639     1\nC1280323807    1\nName: count, Length: 6353307, dtype: int64\n##################################################\nnameDest\nC1286084959    113\nC985934102     109\nC665576141     105\nC2083562754    102\nC248609774     101\n              ... \nM1470027725      1\nM1330329251      1\nM1784358659      1\nM2081431099      1\nC2080388513      1\nName: count, Length: 2722362, dtype: int64\n##################################################\n",
          "output_type": "stream"
        }
      ]
    },
    {
      "cell_type": "code",
      "source": [
        "cleaned_df =df.drop(['nameOrig','nameDest','isFlaggedFraud'], axis=1)"
      ],
      "metadata": {
        "execution": {
          "iopub.status.busy": "2024-04-27T11:32:57.743249Z",
          "iopub.execute_input": "2024-04-27T11:32:57.744537Z",
          "iopub.status.idle": "2024-04-27T11:32:57.946721Z",
          "shell.execute_reply.started": "2024-04-27T11:32:57.744486Z",
          "shell.execute_reply": "2024-04-27T11:32:57.945439Z"
        },
        "trusted": true,
        "id": "0DfnesWypBs2"
      },
      "execution_count": null,
      "outputs": []
    },
    {
      "cell_type": "code",
      "source": [
        "cleaned_df.head(2)"
      ],
      "metadata": {
        "execution": {
          "iopub.status.busy": "2024-04-27T11:33:00.052174Z",
          "iopub.execute_input": "2024-04-27T11:33:00.052568Z",
          "iopub.status.idle": "2024-04-27T11:33:00.069192Z",
          "shell.execute_reply.started": "2024-04-27T11:33:00.052538Z",
          "shell.execute_reply": "2024-04-27T11:33:00.067873Z"
        },
        "trusted": true,
        "id": "hrKRMUklpBs2",
        "outputId": "a4ea9017-a089-4905-d411-5d77b0b3ac7a"
      },
      "execution_count": null,
      "outputs": [
        {
          "execution_count": 22,
          "output_type": "execute_result",
          "data": {
            "text/plain": "   step     type   amount  oldbalanceOrg  newbalanceOrig  oldbalanceDest  \\\n0     1  PAYMENT  9839.64       170136.0       160296.36             0.0   \n1     1  PAYMENT  1864.28        21249.0        19384.72             0.0   \n\n   newbalanceDest  isFraud  \n0             0.0        0  \n1             0.0        0  ",
            "text/html": "<div>\n<style scoped>\n    .dataframe tbody tr th:only-of-type {\n        vertical-align: middle;\n    }\n\n    .dataframe tbody tr th {\n        vertical-align: top;\n    }\n\n    .dataframe thead th {\n        text-align: right;\n    }\n</style>\n<table border=\"1\" class=\"dataframe\">\n  <thead>\n    <tr style=\"text-align: right;\">\n      <th></th>\n      <th>step</th>\n      <th>type</th>\n      <th>amount</th>\n      <th>oldbalanceOrg</th>\n      <th>newbalanceOrig</th>\n      <th>oldbalanceDest</th>\n      <th>newbalanceDest</th>\n      <th>isFraud</th>\n    </tr>\n  </thead>\n  <tbody>\n    <tr>\n      <th>0</th>\n      <td>1</td>\n      <td>PAYMENT</td>\n      <td>9839.64</td>\n      <td>170136.0</td>\n      <td>160296.36</td>\n      <td>0.0</td>\n      <td>0.0</td>\n      <td>0</td>\n    </tr>\n    <tr>\n      <th>1</th>\n      <td>1</td>\n      <td>PAYMENT</td>\n      <td>1864.28</td>\n      <td>21249.0</td>\n      <td>19384.72</td>\n      <td>0.0</td>\n      <td>0.0</td>\n      <td>0</td>\n    </tr>\n  </tbody>\n</table>\n</div>"
          },
          "metadata": {}
        }
      ]
    },
    {
      "cell_type": "code",
      "source": [
        "cleaned_df.isFraud.value_counts()"
      ],
      "metadata": {
        "execution": {
          "iopub.status.busy": "2024-04-27T11:33:48.439231Z",
          "iopub.execute_input": "2024-04-27T11:33:48.439647Z",
          "iopub.status.idle": "2024-04-27T11:33:48.511643Z",
          "shell.execute_reply.started": "2024-04-27T11:33:48.439613Z",
          "shell.execute_reply": "2024-04-27T11:33:48.510496Z"
        },
        "trusted": true,
        "id": "_k6zGeMDpBs2",
        "outputId": "50901a95-1eb3-48ba-b37c-fec0b8f3fc0e"
      },
      "execution_count": null,
      "outputs": [
        {
          "execution_count": 24,
          "output_type": "execute_result",
          "data": {
            "text/plain": "isFraud\n0    6354407\n1       8213\nName: count, dtype: int64"
          },
          "metadata": {}
        }
      ]
    },
    {
      "cell_type": "code",
      "source": [
        "import matplotlib.pyplot as plt\n",
        "import seaborn as sns\n",
        "\n",
        "sns.countplot(data=df, x= 'isFraud')\n",
        "plt.show()"
      ],
      "metadata": {
        "execution": {
          "iopub.status.busy": "2024-04-27T11:35:41.862972Z",
          "iopub.execute_input": "2024-04-27T11:35:41.86339Z",
          "iopub.status.idle": "2024-04-27T11:35:43.23038Z",
          "shell.execute_reply.started": "2024-04-27T11:35:41.863358Z",
          "shell.execute_reply": "2024-04-27T11:35:43.22916Z"
        },
        "trusted": true,
        "id": "eKU8elxrpBs2",
        "outputId": "69989a12-1f93-4ad1-d227-b741db5b7359"
      },
      "execution_count": null,
      "outputs": [
        {
          "output_type": "display_data",
          "data": {
            "text/plain": "<Figure size 640x480 with 1 Axes>",
            "image/png": "[encoded data removed]"
          },
          "metadata": {}
        }
      ]
    },
    {
      "cell_type": "code",
      "source": [
        "def down_sample(df):\n",
        "    not_fraud = df[df['isFraud']==0].sample(n=8213, random_state=42)\n",
        "    fraude = df[df['isFraud']==1]\n",
        "    df = pd.concat([not_fraud , fraude], axis=0).reset_index(drop=True)\n",
        "    return df\n",
        "\n",
        "sample_df = down_sample(cleaned_df)"
      ],
      "metadata": {
        "execution": {
          "iopub.status.busy": "2024-04-27T11:45:26.94643Z",
          "iopub.execute_input": "2024-04-27T11:45:26.946946Z",
          "iopub.status.idle": "2024-04-27T11:45:27.795327Z",
          "shell.execute_reply.started": "2024-04-27T11:45:26.946905Z",
          "shell.execute_reply": "2024-04-27T11:45:27.794237Z"
        },
        "trusted": true,
        "id": "zkm08UKgpBs2"
      },
      "execution_count": null,
      "outputs": []
    },
    {
      "cell_type": "code",
      "source": [
        "sample_df.head(2)"
      ],
      "metadata": {
        "execution": {
          "iopub.status.busy": "2024-04-27T11:45:29.508109Z",
          "iopub.execute_input": "2024-04-27T11:45:29.508546Z",
          "iopub.status.idle": "2024-04-27T11:45:29.524436Z",
          "shell.execute_reply.started": "2024-04-27T11:45:29.508512Z",
          "shell.execute_reply": "2024-04-27T11:45:29.523201Z"
        },
        "trusted": true,
        "id": "Xgs5cOBcpBs3",
        "outputId": "f33e0bd3-c1d1-464a-bc23-b5156eaa92cd"
      },
      "execution_count": null,
      "outputs": [
        {
          "execution_count": 37,
          "output_type": "execute_result",
          "data": {
            "text/plain": "   step      type     amount  oldbalanceOrg  newbalanceOrig  oldbalanceDest  \\\n0   162  CASH_OUT  183806.32        19391.0             0.0       382572.19   \n1   137   PAYMENT     521.37            0.0             0.0            0.00   \n\n   newbalanceDest  isFraud  \n0       566378.51        0  \n1            0.00        0  ",
            "text/html": "<div>\n<style scoped>\n    .dataframe tbody tr th:only-of-type {\n        vertical-align: middle;\n    }\n\n    .dataframe tbody tr th {\n        vertical-align: top;\n    }\n\n    .dataframe thead th {\n        text-align: right;\n    }\n</style>\n<table border=\"1\" class=\"dataframe\">\n  <thead>\n    <tr style=\"text-align: right;\">\n      <th></th>\n      <th>step</th>\n      <th>type</th>\n      <th>amount</th>\n      <th>oldbalanceOrg</th>\n      <th>newbalanceOrig</th>\n      <th>oldbalanceDest</th>\n      <th>newbalanceDest</th>\n      <th>isFraud</th>\n    </tr>\n  </thead>\n  <tbody>\n    <tr>\n      <th>0</th>\n      <td>162</td>\n      <td>CASH_OUT</td>\n      <td>183806.32</td>\n      <td>19391.0</td>\n      <td>0.0</td>\n      <td>382572.19</td>\n      <td>566378.51</td>\n      <td>0</td>\n    </tr>\n    <tr>\n      <th>1</th>\n      <td>137</td>\n      <td>PAYMENT</td>\n      <td>521.37</td>\n      <td>0.0</td>\n      <td>0.0</td>\n      <td>0.00</td>\n      <td>0.00</td>\n      <td>0</td>\n    </tr>\n  </tbody>\n</table>\n</div>"
          },
          "metadata": {}
        }
      ]
    },
    {
      "cell_type": "code",
      "source": [
        "sns.countplot(data=sample_df, x= 'isFraud')\n",
        "plt.show()"
      ],
      "metadata": {
        "execution": {
          "iopub.status.busy": "2024-04-27T11:45:32.59021Z",
          "iopub.execute_input": "2024-04-27T11:45:32.590596Z",
          "iopub.status.idle": "2024-04-27T11:45:32.818064Z",
          "shell.execute_reply.started": "2024-04-27T11:45:32.590567Z",
          "shell.execute_reply": "2024-04-27T11:45:32.816769Z"
        },
        "trusted": true,
        "id": "0p36kQPrpBs3",
        "outputId": "636a8bb6-b33f-4643-c39c-9a640b15e451"
      },
      "execution_count": null,
      "outputs": [
        {
          "output_type": "display_data",
          "data": {
            "text/plain": "<Figure size 640x480 with 1 Axes>",
            "image/png": "[encoded data removed]"
          },
          "metadata": {}
        }
      ]
    },
    {
      "cell_type": "code",
      "source": [
        "from sklearn.preprocessing import OneHotEncoder, StandardScaler\n",
        "from sklearn.impute import SimpleImputer\n",
        "from sklearn.pipeline import Pipeline\n",
        "from sklearn.compose import make_column_selector, ColumnTransformer\n",
        "from sklearn.decomposition import TruncatedSVD\n",
        "\n",
        "cat_col = make_column_selector(dtype_include= 'object')\n",
        "num_col = make_column_selector(dtype_include='number')\n",
        "\n",
        "\n",
        "cat_pipe=Pipeline([\n",
        "\n",
        "    ('cat_impute', SimpleImputer(strategy= 'most_frequent')),\n",
        "    ('ohe', OneHotEncoder(sparse_output= False, handle_unknown= 'ignore')),\n",
        "    ('dr', TruncatedSVD(n_components=3))\n",
        "\n",
        "\n",
        "])\n",
        "\n",
        "num_pipe = Pipeline([\n",
        "\n",
        "    ('num_impu', SimpleImputer(strategy= 'mean')),\n",
        "    ('stand', StandardScaler())\n",
        "\n",
        "])\n"
      ],
      "metadata": {
        "execution": {
          "iopub.status.busy": "2024-04-27T12:30:52.51372Z",
          "iopub.execute_input": "2024-04-27T12:30:52.514108Z",
          "iopub.status.idle": "2024-04-27T12:30:52.522269Z",
          "shell.execute_reply.started": "2024-04-27T12:30:52.514079Z",
          "shell.execute_reply": "2024-04-27T12:30:52.521238Z"
        },
        "trusted": true,
        "id": "bUuldNn7pBs3"
      },
      "execution_count": null,
      "outputs": []
    },
    {
      "cell_type": "code",
      "source": [
        "transformer = ColumnTransformer([\n",
        "\n",
        "    ('cat', cat_pipe, cat_col),\n",
        "    ('num', num_pipe, num_col)\n",
        "])\n",
        "\n",
        "\n",
        "print(transformer)"
      ],
      "metadata": {
        "execution": {
          "iopub.status.busy": "2024-04-27T12:30:57.655614Z",
          "iopub.execute_input": "2024-04-27T12:30:57.656069Z",
          "iopub.status.idle": "2024-04-27T12:30:57.680873Z",
          "shell.execute_reply.started": "2024-04-27T12:30:57.656034Z",
          "shell.execute_reply": "2024-04-27T12:30:57.679502Z"
        },
        "trusted": true,
        "id": "YjNGkM9RpBs3",
        "outputId": "f9f78a00-bf7d-43c2-b5a5-6a9ddda6ec19"
      },
      "execution_count": null,
      "outputs": [
        {
          "name": "stdout",
          "text": "ColumnTransformer(transformers=[('cat',\n                                 Pipeline(steps=[('cat_impute',\n                                                  SimpleImputer(strategy='most_frequent')),\n                                                 ('ohe',\n                                                  OneHotEncoder(handle_unknown='ignore',\n                                                                sparse_output=False)),\n                                                 ('dr',\n                                                  TruncatedSVD(n_components=3))]),\n                                 <sklearn.compose._column_transformer.make_column_selector object at 0x783d0b7979d0>),\n                                ('num',\n                                 Pipeline(steps=[('num_impu', SimpleImputer()),\n                                                 ('stand', StandardScaler())]),\n                                 <sklearn.compose._column_transformer.make_column_selector object at 0x783d0b7963e0>)])\n",
          "output_type": "stream"
        }
      ]
    },
    {
      "cell_type": "code",
      "source": [
        "from sklearn.model_selection import train_test_split\n",
        "\n",
        "features = sample_df.drop('isFraud', axis=1)\n",
        "target= sample_df.isFraud\n",
        "X_train, X_test, y_train, y_test =  train_test_split(features, target, test_size=.2, shuffle=True, stratify= target, random_state=42)"
      ],
      "metadata": {
        "execution": {
          "iopub.status.busy": "2024-04-27T12:31:00.08343Z",
          "iopub.execute_input": "2024-04-27T12:31:00.084015Z",
          "iopub.status.idle": "2024-04-27T12:31:00.10718Z",
          "shell.execute_reply.started": "2024-04-27T12:31:00.083973Z",
          "shell.execute_reply": "2024-04-27T12:31:00.105711Z"
        },
        "trusted": true,
        "id": "qT1c-CwXpBs4"
      },
      "execution_count": null,
      "outputs": []
    },
    {
      "cell_type": "code",
      "source": [
        "from sklearn.metrics import *\n",
        "def model_eveluation(model, X_test= X_test, y_test= y_test):\n",
        "    prediction = model.predict(X_test)\n",
        "    print(f'the accuracy of the model is {round(accuracy_score(prediction, y_test),4)*100}%')\n",
        "    print(f'the precision of the model is {precision_score(prediction, y_test, average= \"macro\")}')\n",
        "    print(f'the recall of the model is {recall_score(prediction, y_test, average=\"macro\")}')\n",
        "    print(f'the f1 of the model is {f1_score(prediction, y_test, average=\"macro\")}')\n",
        "    cm = confusion_matrix(prediction, y_test)\n",
        "    ConfusionMatrixDisplay(cm).plot()\n",
        "\n"
      ],
      "metadata": {
        "execution": {
          "iopub.status.busy": "2024-04-27T12:57:00.12981Z",
          "iopub.execute_input": "2024-04-27T12:57:00.130272Z",
          "iopub.status.idle": "2024-04-27T12:57:00.139821Z",
          "shell.execute_reply.started": "2024-04-27T12:57:00.130237Z",
          "shell.execute_reply": "2024-04-27T12:57:00.138592Z"
        },
        "trusted": true,
        "id": "Pl7Tch4dpBs4"
      },
      "execution_count": null,
      "outputs": []
    },
    {
      "cell_type": "code",
      "source": [
        "from sklearn.linear_model import LogisticRegression\n",
        "\n",
        "clf = Pipeline([\n",
        "\n",
        "    ('transformer', transformer),\n",
        "    ('model',LogisticRegression(max_iter=1000) )\n",
        "])\n",
        "\n",
        "clf.fit(X_train, y_train)"
      ],
      "metadata": {
        "execution": {
          "iopub.status.busy": "2024-04-27T12:56:30.083462Z",
          "iopub.execute_input": "2024-04-27T12:56:30.084409Z",
          "iopub.status.idle": "2024-04-27T12:56:30.479762Z",
          "shell.execute_reply.started": "2024-04-27T12:56:30.084365Z",
          "shell.execute_reply": "2024-04-27T12:56:30.478582Z"
        },
        "trusted": true,
        "id": "9CCLiQ7jpBs4",
        "outputId": "c19991af-f457-4c8f-dbc9-0b7e219322a5"
      },
      "execution_count": null,
      "outputs": [
        {
          "execution_count": 103,
          "output_type": "execute_result",
          "data": {
            "text/plain": "Pipeline(steps=[('transformer',\n                 ColumnTransformer(transformers=[('cat',\n                                                  Pipeline(steps=[('cat_impute',\n                                                                   SimpleImputer(strategy='most_frequent')),\n                                                                  ('ohe',\n                                                                   OneHotEncoder(handle_unknown='ignore',\n                                                                                 sparse_output=False)),\n                                                                  ('dr',\n                                                                   TruncatedSVD(n_components=3))]),\n                                                  <sklearn.compose._column_transformer.make_column_selector object at 0x783d0b7979d0>),\n                                                 ('num',\n                                                  Pipeline(steps=[('num_impu',\n                                                                   SimpleImputer()),\n                                                                  ('stand',\n                                                                   StandardScaler())]),\n                                                  <sklearn.compose._column_transformer.make_column_selector object at 0x783d0b7963e0>)])),\n                ('model', LogisticRegression(max_iter=1000))])",
            "text/html": "<style>#sk-container-id-19 {color: black;background-color: white;}#sk-container-id-19 pre{padding: 0;}#sk-container-id-19 div.sk-toggleable {background-color: white;}#sk-container-id-19 label.sk-toggleable__label {cursor: pointer;display: block;width: 100%;margin-bottom: 0;padding: 0.3em;box-sizing: border-box;text-align: center;}#sk-container-id-19 label.sk-toggleable__label-arrow:before {content: \"▸\";float: left;margin-right: 0.25em;color: #696969;}#sk-container-id-19 label.sk-toggleable__label-arrow:hover:before {color: black;}#sk-container-id-19 div.sk-estimator:hover label.sk-toggleable__label-arrow:before {color: black;}#sk-container-id-19 div.sk-toggleable__content {max-height: 0;max-width: 0;overflow: hidden;text-align: left;background-color: #f0f8ff;}#sk-container-id-19 div.sk-toggleable__content pre {margin: 0.2em;color: black;border-radius: 0.25em;background-color: #f0f8ff;}#sk-container-id-19 input.sk-toggleable__control:checked~div.sk-toggleable__content {max-height: 200px;max-width: 100%;overflow: auto;}#sk-container-id-19 input.sk-toggleable__control:checked~label.sk-toggleable__label-arrow:before {content: \"▾\";}#sk-container-id-19 div.sk-estimator input.sk-toggleable__control:checked~label.sk-toggleable__label {background-color: #d4ebff;}#sk-container-id-19 div.sk-label input.sk-toggleable__control:checked~label.sk-toggleable__label {background-color: #d4ebff;}#sk-container-id-19 input.sk-hidden--visually {border: 0;clip: rect(1px 1px 1px 1px);clip: rect(1px, 1px, 1px, 1px);height: 1px;margin: -1px;overflow: hidden;padding: 0;position: absolute;width: 1px;}#sk-container-id-19 div.sk-estimator {font-family: monospace;background-color: #f0f8ff;border: 1px dotted black;border-radius: 0.25em;box-sizing: border-box;margin-bottom: 0.5em;}#sk-container-id-19 div.sk-estimator:hover {background-color: #d4ebff;}#sk-container-id-19 div.sk-parallel-item::after {content: \"\";width: 100%;border-bottom: 1px solid gray;flex-grow: 1;}#sk-container-id-19 div.sk-label:hover label.sk-toggleable__label {background-color: #d4ebff;}#sk-container-id-19 div.sk-serial::before {content: \"\";position: absolute;border-left: 1px solid gray;box-sizing: border-box;top: 0;bottom: 0;left: 50%;z-index: 0;}#sk-container-id-19 div.sk-serial {display: flex;flex-direction: column;align-items: center;background-color: white;padding-right: 0.2em;padding-left: 0.2em;position: relative;}#sk-container-id-19 div.sk-item {position: relative;z-index: 1;}#sk-container-id-19 div.sk-parallel {display: flex;align-items: stretch;justify-content: center;background-color: white;position: relative;}#sk-container-id-19 div.sk-item::before, #sk-container-id-19 div.sk-parallel-item::before {content: \"\";position: absolute;border-left: 1px solid gray;box-sizing: border-box;top: 0;bottom: 0;left: 50%;z-index: -1;}#sk-container-id-19 div.sk-parallel-item {display: flex;flex-direction: column;z-index: 1;position: relative;background-color: white;}#sk-container-id-19 div.sk-parallel-item:first-child::after {align-self: flex-end;width: 50%;}#sk-container-id-19 div.sk-parallel-item:last-child::after {align-self: flex-start;width: 50%;}#sk-container-id-19 div.sk-parallel-item:only-child::after {width: 0;}#sk-container-id-19 div.sk-dashed-wrapped {border: 1px dashed gray;margin: 0 0.4em 0.5em 0.4em;box-sizing: border-box;padding-bottom: 0.4em;background-color: white;}#sk-container-id-19 div.sk-label label {font-family: monospace;font-weight: bold;display: inline-block;line-height: 1.2em;}#sk-container-id-19 div.sk-label-container {text-align: center;}#sk-container-id-19 div.sk-container {/* jupyter's `normalize.less` sets `[hidden] { display: none; }` but bootstrap.min.css set `[hidden] { display: none !important; }` so we also need the `!important` here to be able to override the default hidden behavior on the sphinx rendered scikit-learn.org. See: https://github.com/scikit-learn/scikit-learn/issues/21755 */display: inline-block !important;position: relative;}#sk-container-id-19 div.sk-text-repr-fallback {display: none;}</style><div id=\"sk-container-id-19\" class=\"sk-top-container\"><div class=\"sk-text-repr-fallback\"><pre>Pipeline(steps=[(&#x27;transformer&#x27;,\n                 ColumnTransformer(transformers=[(&#x27;cat&#x27;,\n                                                  Pipeline(steps=[(&#x27;cat_impute&#x27;,\n                                                                   SimpleImputer(strategy=&#x27;most_frequent&#x27;)),\n                                                                  (&#x27;ohe&#x27;,\n                                                                   OneHotEncoder(handle_unknown=&#x27;ignore&#x27;,\n                                                                                 sparse_output=False)),\n                                                                  (&#x27;dr&#x27;,\n                                                                   TruncatedSVD(n_components=3))]),\n                                                  &lt;sklearn.compose._column_transformer.make_column_selector object at 0x783d0b7979d0&gt;),\n                                                 (&#x27;num&#x27;,\n                                                  Pipeline(steps=[(&#x27;num_impu&#x27;,\n                                                                   SimpleImputer()),\n                                                                  (&#x27;stand&#x27;,\n                                                                   StandardScaler())]),\n                                                  &lt;sklearn.compose._column_transformer.make_column_selector object at 0x783d0b7963e0&gt;)])),\n                (&#x27;model&#x27;, LogisticRegression(max_iter=1000))])</pre><b>In a Jupyter environment, please rerun this cell to show the HTML representation or trust the notebook. <br />On GitHub, the HTML representation is unable to render, please try loading this page with nbviewer.org.</b></div><div class=\"sk-container\" hidden><div class=\"sk-item sk-dashed-wrapped\"><div class=\"sk-label-container\"><div class=\"sk-label sk-toggleable\"><input class=\"sk-toggleable__control sk-hidden--visually\" id=\"sk-estimator-id-172\" type=\"checkbox\" ><label for=\"sk-estimator-id-172\" class=\"sk-toggleable__label sk-toggleable__label-arrow\">Pipeline</label><div class=\"sk-toggleable__content\"><pre>Pipeline(steps=[(&#x27;transformer&#x27;,\n                 ColumnTransformer(transformers=[(&#x27;cat&#x27;,\n                                                  Pipeline(steps=[(&#x27;cat_impute&#x27;,\n                                                                   SimpleImputer(strategy=&#x27;most_frequent&#x27;)),\n                                                                  (&#x27;ohe&#x27;,\n                                                                   OneHotEncoder(handle_unknown=&#x27;ignore&#x27;,\n                                                                                 sparse_output=False)),\n                                                                  (&#x27;dr&#x27;,\n                                                                   TruncatedSVD(n_components=3))]),\n                                                  &lt;sklearn.compose._column_transformer.make_column_selector object at 0x783d0b7979d0&gt;),\n                                                 (&#x27;num&#x27;,\n                                                  Pipeline(steps=[(&#x27;num_impu&#x27;,\n                                                                   SimpleImputer()),\n                                                                  (&#x27;stand&#x27;,\n                                                                   StandardScaler())]),\n                                                  &lt;sklearn.compose._column_transformer.make_column_selector object at 0x783d0b7963e0&gt;)])),\n                (&#x27;model&#x27;, LogisticRegression(max_iter=1000))])</pre></div></div></div><div class=\"sk-serial\"><div class=\"sk-item sk-dashed-wrapped\"><div class=\"sk-label-container\"><div class=\"sk-label sk-toggleable\"><input class=\"sk-toggleable__control sk-hidden--visually\" id=\"sk-estimator-id-173\" type=\"checkbox\" ><label for=\"sk-estimator-id-173\" class=\"sk-toggleable__label sk-toggleable__label-arrow\">transformer: ColumnTransformer</label><div class=\"sk-toggleable__content\"><pre>ColumnTransformer(transformers=[(&#x27;cat&#x27;,\n                                 Pipeline(steps=[(&#x27;cat_impute&#x27;,\n                                                  SimpleImputer(strategy=&#x27;most_frequent&#x27;)),\n                                                 (&#x27;ohe&#x27;,\n                                                  OneHotEncoder(handle_unknown=&#x27;ignore&#x27;,\n                                                                sparse_output=False)),\n                                                 (&#x27;dr&#x27;,\n                                                  TruncatedSVD(n_components=3))]),\n                                 &lt;sklearn.compose._column_transformer.make_column_selector object at 0x783d0b7979d0&gt;),\n                                (&#x27;num&#x27;,\n                                 Pipeline(steps=[(&#x27;num_impu&#x27;, SimpleImputer()),\n                                                 (&#x27;stand&#x27;, StandardScaler())]),\n                                 &lt;sklearn.compose._column_transformer.make_column_selector object at 0x783d0b7963e0&gt;)])</pre></div></div></div><div class=\"sk-parallel\"><div class=\"sk-parallel-item\"><div class=\"sk-item\"><div class=\"sk-label-container\"><div class=\"sk-label sk-toggleable\"><input class=\"sk-toggleable__control sk-hidden--visually\" id=\"sk-estimator-id-174\" type=\"checkbox\" ><label for=\"sk-estimator-id-174\" class=\"sk-toggleable__label sk-toggleable__label-arrow\">cat</label><div class=\"sk-toggleable__content\"><pre>&lt;sklearn.compose._column_transformer.make_column_selector object at 0x783d0b7979d0&gt;</pre></div></div></div><div class=\"sk-serial\"><div class=\"sk-item\"><div class=\"sk-serial\"><div class=\"sk-item\"><div class=\"sk-estimator sk-toggleable\"><input class=\"sk-toggleable__control sk-hidden--visually\" id=\"sk-estimator-id-175\" type=\"checkbox\" ><label for=\"sk-estimator-id-175\" class=\"sk-toggleable__label sk-toggleable__label-arrow\">SimpleImputer</label><div class=\"sk-toggleable__content\"><pre>SimpleImputer(strategy=&#x27;most_frequent&#x27;)</pre></div></div></div><div class=\"sk-item\"><div class=\"sk-estimator sk-toggleable\"><input class=\"sk-toggleable__control sk-hidden--visually\" id=\"sk-estimator-id-176\" type=\"checkbox\" ><label for=\"sk-estimator-id-176\" class=\"sk-toggleable__label sk-toggleable__label-arrow\">OneHotEncoder</label><div class=\"sk-toggleable__content\"><pre>OneHotEncoder(handle_unknown=&#x27;ignore&#x27;, sparse_output=False)</pre></div></div></div><div class=\"sk-item\"><div class=\"sk-estimator sk-toggleable\"><input class=\"sk-toggleable__control sk-hidden--visually\" id=\"sk-estimator-id-177\" type=\"checkbox\" ><label for=\"sk-estimator-id-177\" class=\"sk-toggleable__label sk-toggleable__label-arrow\">TruncatedSVD</label><div class=\"sk-toggleable__content\"><pre>TruncatedSVD(n_components=3)</pre></div></div></div></div></div></div></div></div><div class=\"sk-parallel-item\"><div class=\"sk-item\"><div class=\"sk-label-container\"><div class=\"sk-label sk-toggleable\"><input class=\"sk-toggleable__control sk-hidden--visually\" id=\"sk-estimator-id-178\" type=\"checkbox\" ><label for=\"sk-estimator-id-178\" class=\"sk-toggleable__label sk-toggleable__label-arrow\">num</label><div class=\"sk-toggleable__content\"><pre>&lt;sklearn.compose._column_transformer.make_column_selector object at 0x783d0b7963e0&gt;</pre></div></div></div><div class=\"sk-serial\"><div class=\"sk-item\"><div class=\"sk-serial\"><div class=\"sk-item\"><div class=\"sk-estimator sk-toggleable\"><input class=\"sk-toggleable__control sk-hidden--visually\" id=\"sk-estimator-id-179\" type=\"checkbox\" ><label for=\"sk-estimator-id-179\" class=\"sk-toggleable__label sk-toggleable__label-arrow\">SimpleImputer</label><div class=\"sk-toggleable__content\"><pre>SimpleImputer()</pre></div></div></div><div class=\"sk-item\"><div class=\"sk-estimator sk-toggleable\"><input class=\"sk-toggleable__control sk-hidden--visually\" id=\"sk-estimator-id-180\" type=\"checkbox\" ><label for=\"sk-estimator-id-180\" class=\"sk-toggleable__label sk-toggleable__label-arrow\">StandardScaler</label><div class=\"sk-toggleable__content\"><pre>StandardScaler()</pre></div></div></div></div></div></div></div></div></div></div><div class=\"sk-item\"><div class=\"sk-estimator sk-toggleable\"><input class=\"sk-toggleable__control sk-hidden--visually\" id=\"sk-estimator-id-181\" type=\"checkbox\" ><label for=\"sk-estimator-id-181\" class=\"sk-toggleable__label sk-toggleable__label-arrow\">LogisticRegression</label><div class=\"sk-toggleable__content\"><pre>LogisticRegression(max_iter=1000)</pre></div></div></div></div></div></div></div>"
          },
          "metadata": {}
        }
      ]
    },
    {
      "cell_type": "code",
      "source": [
        "model_eveluation(clf)"
      ],
      "metadata": {
        "execution": {
          "iopub.status.busy": "2024-04-27T12:57:03.349673Z",
          "iopub.execute_input": "2024-04-27T12:57:03.350079Z",
          "iopub.status.idle": "2024-04-27T12:57:03.776729Z",
          "shell.execute_reply.started": "2024-04-27T12:57:03.35005Z",
          "shell.execute_reply": "2024-04-27T12:57:03.775506Z"
        },
        "trusted": true,
        "id": "cpk_UR4vpBs4",
        "outputId": "a7a92c9b-09b9-4ef2-a5ea-b061ecbeb97c"
      },
      "execution_count": null,
      "outputs": [
        {
          "name": "stdout",
          "text": "the accuracy of the model is 92.73%\nthe precision of the model is 0.9272671941570299\nthe recall of the model is 0.9274396299974799\nthe f1 of the model is 0.9272598580289342\n",
          "output_type": "stream"
        },
        {
          "output_type": "display_data",
          "data": {
            "text/plain": "<Figure size 640x480 with 2 Axes>",
            "image/png": "[encoded data removed]"
          },
          "metadata": {}
        }
      ]
    },
    {
      "cell_type": "markdown",
      "source": [
        "## Using SVC"
      ],
      "metadata": {
        "id": "vcZ4xRnOpBs4"
      }
    },
    {
      "cell_type": "code",
      "source": [
        "from sklearn.svm import SVC\n",
        "\n",
        "clf = Pipeline([\n",
        "\n",
        "    ('transformer', transformer),\n",
        "    ('model',SVC() )\n",
        "])\n",
        "\n",
        "clf.fit(X_train, y_train)"
      ],
      "metadata": {
        "execution": {
          "iopub.status.busy": "2024-04-27T12:47:38.252155Z",
          "iopub.execute_input": "2024-04-27T12:47:38.252552Z",
          "iopub.status.idle": "2024-04-27T12:47:42.133497Z",
          "shell.execute_reply.started": "2024-04-27T12:47:38.252523Z",
          "shell.execute_reply": "2024-04-27T12:47:42.13241Z"
        },
        "trusted": true,
        "id": "GjGbpIGLpBs6",
        "outputId": "d96b06dc-1744-4d04-cfa3-f333c9f3f5f3"
      },
      "execution_count": null,
      "outputs": [
        {
          "execution_count": 83,
          "output_type": "execute_result",
          "data": {
            "text/plain": "Pipeline(steps=[('transformer',\n                 ColumnTransformer(transformers=[('cat',\n                                                  Pipeline(steps=[('cat_impute',\n                                                                   SimpleImputer(strategy='most_frequent')),\n                                                                  ('ohe',\n                                                                   OneHotEncoder(handle_unknown='ignore',\n                                                                                 sparse_output=False)),\n                                                                  ('dr',\n                                                                   TruncatedSVD(n_components=3))]),\n                                                  <sklearn.compose._column_transformer.make_column_selector object at 0x783d0b7979d0>),\n                                                 ('num',\n                                                  Pipeline(steps=[('num_impu',\n                                                                   SimpleImputer()),\n                                                                  ('stand',\n                                                                   StandardScaler())]),\n                                                  <sklearn.compose._column_transformer.make_column_selector object at 0x783d0b7963e0>)])),\n                ('model', SVC())])",
            "text/html": "<style>#sk-container-id-11 {color: black;background-color: white;}#sk-container-id-11 pre{padding: 0;}#sk-container-id-11 div.sk-toggleable {background-color: white;}#sk-container-id-11 label.sk-toggleable__label {cursor: pointer;display: block;width: 100%;margin-bottom: 0;padding: 0.3em;box-sizing: border-box;text-align: center;}#sk-container-id-11 label.sk-toggleable__label-arrow:before {content: \"▸\";float: left;margin-right: 0.25em;color: #696969;}#sk-container-id-11 label.sk-toggleable__label-arrow:hover:before {color: black;}#sk-container-id-11 div.sk-estimator:hover label.sk-toggleable__label-arrow:before {color: black;}#sk-container-id-11 div.sk-toggleable__content {max-height: 0;max-width: 0;overflow: hidden;text-align: left;background-color: #f0f8ff;}#sk-container-id-11 div.sk-toggleable__content pre {margin: 0.2em;color: black;border-radius: 0.25em;background-color: #f0f8ff;}#sk-container-id-11 input.sk-toggleable__control:checked~div.sk-toggleable__content {max-height: 200px;max-width: 100%;overflow: auto;}#sk-container-id-11 input.sk-toggleable__control:checked~label.sk-toggleable__label-arrow:before {content: \"▾\";}#sk-container-id-11 div.sk-estimator input.sk-toggleable__control:checked~label.sk-toggleable__label {background-color: #d4ebff;}#sk-container-id-11 div.sk-label input.sk-toggleable__control:checked~label.sk-toggleable__label {background-color: #d4ebff;}#sk-container-id-11 input.sk-hidden--visually {border: 0;clip: rect(1px 1px 1px 1px);clip: rect(1px, 1px, 1px, 1px);height: 1px;margin: -1px;overflow: hidden;padding: 0;position: absolute;width: 1px;}#sk-container-id-11 div.sk-estimator {font-family: monospace;background-color: #f0f8ff;border: 1px dotted black;border-radius: 0.25em;box-sizing: border-box;margin-bottom: 0.5em;}#sk-container-id-11 div.sk-estimator:hover {background-color: #d4ebff;}#sk-container-id-11 div.sk-parallel-item::after {content: \"\";width: 100%;border-bottom: 1px solid gray;flex-grow: 1;}#sk-container-id-11 div.sk-label:hover label.sk-toggleable__label {background-color: #d4ebff;}#sk-container-id-11 div.sk-serial::before {content: \"\";position: absolute;border-left: 1px solid gray;box-sizing: border-box;top: 0;bottom: 0;left: 50%;z-index: 0;}#sk-container-id-11 div.sk-serial {display: flex;flex-direction: column;align-items: center;background-color: white;padding-right: 0.2em;padding-left: 0.2em;position: relative;}#sk-container-id-11 div.sk-item {position: relative;z-index: 1;}#sk-container-id-11 div.sk-parallel {display: flex;align-items: stretch;justify-content: center;background-color: white;position: relative;}#sk-container-id-11 div.sk-item::before, #sk-container-id-11 div.sk-parallel-item::before {content: \"\";position: absolute;border-left: 1px solid gray;box-sizing: border-box;top: 0;bottom: 0;left: 50%;z-index: -1;}#sk-container-id-11 div.sk-parallel-item {display: flex;flex-direction: column;z-index: 1;position: relative;background-color: white;}#sk-container-id-11 div.sk-parallel-item:first-child::after {align-self: flex-end;width: 50%;}#sk-container-id-11 div.sk-parallel-item:last-child::after {align-self: flex-start;width: 50%;}#sk-container-id-11 div.sk-parallel-item:only-child::after {width: 0;}#sk-container-id-11 div.sk-dashed-wrapped {border: 1px dashed gray;margin: 0 0.4em 0.5em 0.4em;box-sizing: border-box;padding-bottom: 0.4em;background-color: white;}#sk-container-id-11 div.sk-label label {font-family: monospace;font-weight: bold;display: inline-block;line-height: 1.2em;}#sk-container-id-11 div.sk-label-container {text-align: center;}#sk-container-id-11 div.sk-container {/* jupyter's `normalize.less` sets `[hidden] { display: none; }` but bootstrap.min.css set `[hidden] { display: none !important; }` so we also need the `!important` here to be able to override the default hidden behavior on the sphinx rendered scikit-learn.org. See: https://github.com/scikit-learn/scikit-learn/issues/21755 */display: inline-block !important;position: relative;}#sk-container-id-11 div.sk-text-repr-fallback {display: none;}</style><div id=\"sk-container-id-11\" class=\"sk-top-container\"><div class=\"sk-text-repr-fallback\"><pre>Pipeline(steps=[(&#x27;transformer&#x27;,\n                 ColumnTransformer(transformers=[(&#x27;cat&#x27;,\n                                                  Pipeline(steps=[(&#x27;cat_impute&#x27;,\n                                                                   SimpleImputer(strategy=&#x27;most_frequent&#x27;)),\n                                                                  (&#x27;ohe&#x27;,\n                                                                   OneHotEncoder(handle_unknown=&#x27;ignore&#x27;,\n                                                                                 sparse_output=False)),\n                                                                  (&#x27;dr&#x27;,\n                                                                   TruncatedSVD(n_components=3))]),\n                                                  &lt;sklearn.compose._column_transformer.make_column_selector object at 0x783d0b7979d0&gt;),\n                                                 (&#x27;num&#x27;,\n                                                  Pipeline(steps=[(&#x27;num_impu&#x27;,\n                                                                   SimpleImputer()),\n                                                                  (&#x27;stand&#x27;,\n                                                                   StandardScaler())]),\n                                                  &lt;sklearn.compose._column_transformer.make_column_selector object at 0x783d0b7963e0&gt;)])),\n                (&#x27;model&#x27;, SVC())])</pre><b>In a Jupyter environment, please rerun this cell to show the HTML representation or trust the notebook. <br />On GitHub, the HTML representation is unable to render, please try loading this page with nbviewer.org.</b></div><div class=\"sk-container\" hidden><div class=\"sk-item sk-dashed-wrapped\"><div class=\"sk-label-container\"><div class=\"sk-label sk-toggleable\"><input class=\"sk-toggleable__control sk-hidden--visually\" id=\"sk-estimator-id-92\" type=\"checkbox\" ><label for=\"sk-estimator-id-92\" class=\"sk-toggleable__label sk-toggleable__label-arrow\">Pipeline</label><div class=\"sk-toggleable__content\"><pre>Pipeline(steps=[(&#x27;transformer&#x27;,\n                 ColumnTransformer(transformers=[(&#x27;cat&#x27;,\n                                                  Pipeline(steps=[(&#x27;cat_impute&#x27;,\n                                                                   SimpleImputer(strategy=&#x27;most_frequent&#x27;)),\n                                                                  (&#x27;ohe&#x27;,\n                                                                   OneHotEncoder(handle_unknown=&#x27;ignore&#x27;,\n                                                                                 sparse_output=False)),\n                                                                  (&#x27;dr&#x27;,\n                                                                   TruncatedSVD(n_components=3))]),\n                                                  &lt;sklearn.compose._column_transformer.make_column_selector object at 0x783d0b7979d0&gt;),\n                                                 (&#x27;num&#x27;,\n                                                  Pipeline(steps=[(&#x27;num_impu&#x27;,\n                                                                   SimpleImputer()),\n                                                                  (&#x27;stand&#x27;,\n                                                                   StandardScaler())]),\n                                                  &lt;sklearn.compose._column_transformer.make_column_selector object at 0x783d0b7963e0&gt;)])),\n                (&#x27;model&#x27;, SVC())])</pre></div></div></div><div class=\"sk-serial\"><div class=\"sk-item sk-dashed-wrapped\"><div class=\"sk-label-container\"><div class=\"sk-label sk-toggleable\"><input class=\"sk-toggleable__control sk-hidden--visually\" id=\"sk-estimator-id-93\" type=\"checkbox\" ><label for=\"sk-estimator-id-93\" class=\"sk-toggleable__label sk-toggleable__label-arrow\">transformer: ColumnTransformer</label><div class=\"sk-toggleable__content\"><pre>ColumnTransformer(transformers=[(&#x27;cat&#x27;,\n                                 Pipeline(steps=[(&#x27;cat_impute&#x27;,\n                                                  SimpleImputer(strategy=&#x27;most_frequent&#x27;)),\n                                                 (&#x27;ohe&#x27;,\n                                                  OneHotEncoder(handle_unknown=&#x27;ignore&#x27;,\n                                                                sparse_output=False)),\n                                                 (&#x27;dr&#x27;,\n                                                  TruncatedSVD(n_components=3))]),\n                                 &lt;sklearn.compose._column_transformer.make_column_selector object at 0x783d0b7979d0&gt;),\n                                (&#x27;num&#x27;,\n                                 Pipeline(steps=[(&#x27;num_impu&#x27;, SimpleImputer()),\n                                                 (&#x27;stand&#x27;, StandardScaler())]),\n                                 &lt;sklearn.compose._column_transformer.make_column_selector object at 0x783d0b7963e0&gt;)])</pre></div></div></div><div class=\"sk-parallel\"><div class=\"sk-parallel-item\"><div class=\"sk-item\"><div class=\"sk-label-container\"><div class=\"sk-label sk-toggleable\"><input class=\"sk-toggleable__control sk-hidden--visually\" id=\"sk-estimator-id-94\" type=\"checkbox\" ><label for=\"sk-estimator-id-94\" class=\"sk-toggleable__label sk-toggleable__label-arrow\">cat</label><div class=\"sk-toggleable__content\"><pre>&lt;sklearn.compose._column_transformer.make_column_selector object at 0x783d0b7979d0&gt;</pre></div></div></div><div class=\"sk-serial\"><div class=\"sk-item\"><div class=\"sk-serial\"><div class=\"sk-item\"><div class=\"sk-estimator sk-toggleable\"><input class=\"sk-toggleable__control sk-hidden--visually\" id=\"sk-estimator-id-95\" type=\"checkbox\" ><label for=\"sk-estimator-id-95\" class=\"sk-toggleable__label sk-toggleable__label-arrow\">SimpleImputer</label><div class=\"sk-toggleable__content\"><pre>SimpleImputer(strategy=&#x27;most_frequent&#x27;)</pre></div></div></div><div class=\"sk-item\"><div class=\"sk-estimator sk-toggleable\"><input class=\"sk-toggleable__control sk-hidden--visually\" id=\"sk-estimator-id-96\" type=\"checkbox\" ><label for=\"sk-estimator-id-96\" class=\"sk-toggleable__label sk-toggleable__label-arrow\">OneHotEncoder</label><div class=\"sk-toggleable__content\"><pre>OneHotEncoder(handle_unknown=&#x27;ignore&#x27;, sparse_output=False)</pre></div></div></div><div class=\"sk-item\"><div class=\"sk-estimator sk-toggleable\"><input class=\"sk-toggleable__control sk-hidden--visually\" id=\"sk-estimator-id-97\" type=\"checkbox\" ><label for=\"sk-estimator-id-97\" class=\"sk-toggleable__label sk-toggleable__label-arrow\">TruncatedSVD</label><div class=\"sk-toggleable__content\"><pre>TruncatedSVD(n_components=3)</pre></div></div></div></div></div></div></div></div><div class=\"sk-parallel-item\"><div class=\"sk-item\"><div class=\"sk-label-container\"><div class=\"sk-label sk-toggleable\"><input class=\"sk-toggleable__control sk-hidden--visually\" id=\"sk-estimator-id-98\" type=\"checkbox\" ><label for=\"sk-estimator-id-98\" class=\"sk-toggleable__label sk-toggleable__label-arrow\">num</label><div class=\"sk-toggleable__content\"><pre>&lt;sklearn.compose._column_transformer.make_column_selector object at 0x783d0b7963e0&gt;</pre></div></div></div><div class=\"sk-serial\"><div class=\"sk-item\"><div class=\"sk-serial\"><div class=\"sk-item\"><div class=\"sk-estimator sk-toggleable\"><input class=\"sk-toggleable__control sk-hidden--visually\" id=\"sk-estimator-id-99\" type=\"checkbox\" ><label for=\"sk-estimator-id-99\" class=\"sk-toggleable__label sk-toggleable__label-arrow\">SimpleImputer</label><div class=\"sk-toggleable__content\"><pre>SimpleImputer()</pre></div></div></div><div class=\"sk-item\"><div class=\"sk-estimator sk-toggleable\"><input class=\"sk-toggleable__control sk-hidden--visually\" id=\"sk-estimator-id-100\" type=\"checkbox\" ><label for=\"sk-estimator-id-100\" class=\"sk-toggleable__label sk-toggleable__label-arrow\">StandardScaler</label><div class=\"sk-toggleable__content\"><pre>StandardScaler()</pre></div></div></div></div></div></div></div></div></div></div><div class=\"sk-item\"><div class=\"sk-estimator sk-toggleable\"><input class=\"sk-toggleable__control sk-hidden--visually\" id=\"sk-estimator-id-101\" type=\"checkbox\" ><label for=\"sk-estimator-id-101\" class=\"sk-toggleable__label sk-toggleable__label-arrow\">SVC</label><div class=\"sk-toggleable__content\"><pre>SVC()</pre></div></div></div></div></div></div></div>"
          },
          "metadata": {}
        }
      ]
    },
    {
      "cell_type": "code",
      "source": [
        "model_eveluation(clf)"
      ],
      "metadata": {
        "execution": {
          "iopub.status.busy": "2024-04-27T12:47:47.980361Z",
          "iopub.execute_input": "2024-04-27T12:47:47.980782Z",
          "iopub.status.idle": "2024-04-27T12:47:49.408745Z",
          "shell.execute_reply.started": "2024-04-27T12:47:47.98075Z",
          "shell.execute_reply": "2024-04-27T12:47:49.407553Z"
        },
        "trusted": true,
        "id": "Sxn-P3jVpBs6",
        "outputId": "c6285b8a-5cd4-48e1-d768-1f2332c11c16"
      },
      "execution_count": null,
      "outputs": [
        {
          "name": "stdout",
          "text": "the accuracy of the model is 0.9190505173463177\nthe precision of the model is 0.9190505173463177\nthe recall of the model is 0.9226680416762413\n",
          "output_type": "stream"
        },
        {
          "output_type": "display_data",
          "data": {
            "text/plain": "<Figure size 640x480 with 2 Axes>",
            "image/png": "[encoded data removed]"
          },
          "metadata": {}
        }
      ]
    },
    {
      "cell_type": "markdown",
      "source": [
        "## Using RandomForest"
      ],
      "metadata": {
        "id": "38-JGzgspBs7"
      }
    },
    {
      "cell_type": "code",
      "source": [
        "from sklearn.ensemble import RandomForestClassifier\n",
        "\n",
        "clf = Pipeline([\n",
        "\n",
        "    ('transformer', transformer),\n",
        "    ('model',RandomForestClassifier(n_estimators= 70) )\n",
        "])\n",
        "\n",
        "clf.fit(X_train, y_train)"
      ],
      "metadata": {
        "execution": {
          "iopub.status.busy": "2024-04-27T12:51:53.565545Z",
          "iopub.execute_input": "2024-04-27T12:51:53.565942Z",
          "iopub.status.idle": "2024-04-27T12:51:54.938269Z",
          "shell.execute_reply.started": "2024-04-27T12:51:53.565911Z",
          "shell.execute_reply": "2024-04-27T12:51:54.937184Z"
        },
        "trusted": true,
        "id": "Y5R2TlCwpBs7",
        "outputId": "65ed56d8-100c-40aa-c03f-4b50d4a504c4"
      },
      "execution_count": null,
      "outputs": [
        {
          "execution_count": 93,
          "output_type": "execute_result",
          "data": {
            "text/plain": "Pipeline(steps=[('transformer',\n                 ColumnTransformer(transformers=[('cat',\n                                                  Pipeline(steps=[('cat_impute',\n                                                                   SimpleImputer(strategy='most_frequent')),\n                                                                  ('ohe',\n                                                                   OneHotEncoder(handle_unknown='ignore',\n                                                                                 sparse_output=False)),\n                                                                  ('dr',\n                                                                   TruncatedSVD(n_components=3))]),\n                                                  <sklearn.compose._column_transformer.make_column_selector object at 0x783d0b7979d0>),\n                                                 ('num',\n                                                  Pipeline(steps=[('num_impu',\n                                                                   SimpleImputer()),\n                                                                  ('stand',\n                                                                   StandardScaler())]),\n                                                  <sklearn.compose._column_transformer.make_column_selector object at 0x783d0b7963e0>)])),\n                ('model', RandomForestClassifier(n_estimators=70))])",
            "text/html": "<style>#sk-container-id-16 {color: black;background-color: white;}#sk-container-id-16 pre{padding: 0;}#sk-container-id-16 div.sk-toggleable {background-color: white;}#sk-container-id-16 label.sk-toggleable__label {cursor: pointer;display: block;width: 100%;margin-bottom: 0;padding: 0.3em;box-sizing: border-box;text-align: center;}#sk-container-id-16 label.sk-toggleable__label-arrow:before {content: \"▸\";float: left;margin-right: 0.25em;color: #696969;}#sk-container-id-16 label.sk-toggleable__label-arrow:hover:before {color: black;}#sk-container-id-16 div.sk-estimator:hover label.sk-toggleable__label-arrow:before {color: black;}#sk-container-id-16 div.sk-toggleable__content {max-height: 0;max-width: 0;overflow: hidden;text-align: left;background-color: #f0f8ff;}#sk-container-id-16 div.sk-toggleable__content pre {margin: 0.2em;color: black;border-radius: 0.25em;background-color: #f0f8ff;}#sk-container-id-16 input.sk-toggleable__control:checked~div.sk-toggleable__content {max-height: 200px;max-width: 100%;overflow: auto;}#sk-container-id-16 input.sk-toggleable__control:checked~label.sk-toggleable__label-arrow:before {content: \"▾\";}#sk-container-id-16 div.sk-estimator input.sk-toggleable__control:checked~label.sk-toggleable__label {background-color: #d4ebff;}#sk-container-id-16 div.sk-label input.sk-toggleable__control:checked~label.sk-toggleable__label {background-color: #d4ebff;}#sk-container-id-16 input.sk-hidden--visually {border: 0;clip: rect(1px 1px 1px 1px);clip: rect(1px, 1px, 1px, 1px);height: 1px;margin: -1px;overflow: hidden;padding: 0;position: absolute;width: 1px;}#sk-container-id-16 div.sk-estimator {font-family: monospace;background-color: #f0f8ff;border: 1px dotted black;border-radius: 0.25em;box-sizing: border-box;margin-bottom: 0.5em;}#sk-container-id-16 div.sk-estimator:hover {background-color: #d4ebff;}#sk-container-id-16 div.sk-parallel-item::after {content: \"\";width: 100%;border-bottom: 1px solid gray;flex-grow: 1;}#sk-container-id-16 div.sk-label:hover label.sk-toggleable__label {background-color: #d4ebff;}#sk-container-id-16 div.sk-serial::before {content: \"\";position: absolute;border-left: 1px solid gray;box-sizing: border-box;top: 0;bottom: 0;left: 50%;z-index: 0;}#sk-container-id-16 div.sk-serial {display: flex;flex-direction: column;align-items: center;background-color: white;padding-right: 0.2em;padding-left: 0.2em;position: relative;}#sk-container-id-16 div.sk-item {position: relative;z-index: 1;}#sk-container-id-16 div.sk-parallel {display: flex;align-items: stretch;justify-content: center;background-color: white;position: relative;}#sk-container-id-16 div.sk-item::before, #sk-container-id-16 div.sk-parallel-item::before {content: \"\";position: absolute;border-left: 1px solid gray;box-sizing: border-box;top: 0;bottom: 0;left: 50%;z-index: -1;}#sk-container-id-16 div.sk-parallel-item {display: flex;flex-direction: column;z-index: 1;position: relative;background-color: white;}#sk-container-id-16 div.sk-parallel-item:first-child::after {align-self: flex-end;width: 50%;}#sk-container-id-16 div.sk-parallel-item:last-child::after {align-self: flex-start;width: 50%;}#sk-container-id-16 div.sk-parallel-item:only-child::after {width: 0;}#sk-container-id-16 div.sk-dashed-wrapped {border: 1px dashed gray;margin: 0 0.4em 0.5em 0.4em;box-sizing: border-box;padding-bottom: 0.4em;background-color: white;}#sk-container-id-16 div.sk-label label {font-family: monospace;font-weight: bold;display: inline-block;line-height: 1.2em;}#sk-container-id-16 div.sk-label-container {text-align: center;}#sk-container-id-16 div.sk-container {/* jupyter's `normalize.less` sets `[hidden] { display: none; }` but bootstrap.min.css set `[hidden] { display: none !important; }` so we also need the `!important` here to be able to override the default hidden behavior on the sphinx rendered scikit-learn.org. See: https://github.com/scikit-learn/scikit-learn/issues/21755 */display: inline-block !important;position: relative;}#sk-container-id-16 div.sk-text-repr-fallback {display: none;}</style><div id=\"sk-container-id-16\" class=\"sk-top-container\"><div class=\"sk-text-repr-fallback\"><pre>Pipeline(steps=[(&#x27;transformer&#x27;,\n                 ColumnTransformer(transformers=[(&#x27;cat&#x27;,\n                                                  Pipeline(steps=[(&#x27;cat_impute&#x27;,\n                                                                   SimpleImputer(strategy=&#x27;most_frequent&#x27;)),\n                                                                  (&#x27;ohe&#x27;,\n                                                                   OneHotEncoder(handle_unknown=&#x27;ignore&#x27;,\n                                                                                 sparse_output=False)),\n                                                                  (&#x27;dr&#x27;,\n                                                                   TruncatedSVD(n_components=3))]),\n                                                  &lt;sklearn.compose._column_transformer.make_column_selector object at 0x783d0b7979d0&gt;),\n                                                 (&#x27;num&#x27;,\n                                                  Pipeline(steps=[(&#x27;num_impu&#x27;,\n                                                                   SimpleImputer()),\n                                                                  (&#x27;stand&#x27;,\n                                                                   StandardScaler())]),\n                                                  &lt;sklearn.compose._column_transformer.make_column_selector object at 0x783d0b7963e0&gt;)])),\n                (&#x27;model&#x27;, RandomForestClassifier(n_estimators=70))])</pre><b>In a Jupyter environment, please rerun this cell to show the HTML representation or trust the notebook. <br />On GitHub, the HTML representation is unable to render, please try loading this page with nbviewer.org.</b></div><div class=\"sk-container\" hidden><div class=\"sk-item sk-dashed-wrapped\"><div class=\"sk-label-container\"><div class=\"sk-label sk-toggleable\"><input class=\"sk-toggleable__control sk-hidden--visually\" id=\"sk-estimator-id-142\" type=\"checkbox\" ><label for=\"sk-estimator-id-142\" class=\"sk-toggleable__label sk-toggleable__label-arrow\">Pipeline</label><div class=\"sk-toggleable__content\"><pre>Pipeline(steps=[(&#x27;transformer&#x27;,\n                 ColumnTransformer(transformers=[(&#x27;cat&#x27;,\n                                                  Pipeline(steps=[(&#x27;cat_impute&#x27;,\n                                                                   SimpleImputer(strategy=&#x27;most_frequent&#x27;)),\n                                                                  (&#x27;ohe&#x27;,\n                                                                   OneHotEncoder(handle_unknown=&#x27;ignore&#x27;,\n                                                                                 sparse_output=False)),\n                                                                  (&#x27;dr&#x27;,\n                                                                   TruncatedSVD(n_components=3))]),\n                                                  &lt;sklearn.compose._column_transformer.make_column_selector object at 0x783d0b7979d0&gt;),\n                                                 (&#x27;num&#x27;,\n                                                  Pipeline(steps=[(&#x27;num_impu&#x27;,\n                                                                   SimpleImputer()),\n                                                                  (&#x27;stand&#x27;,\n                                                                   StandardScaler())]),\n                                                  &lt;sklearn.compose._column_transformer.make_column_selector object at 0x783d0b7963e0&gt;)])),\n                (&#x27;model&#x27;, RandomForestClassifier(n_estimators=70))])</pre></div></div></div><div class=\"sk-serial\"><div class=\"sk-item sk-dashed-wrapped\"><div class=\"sk-label-container\"><div class=\"sk-label sk-toggleable\"><input class=\"sk-toggleable__control sk-hidden--visually\" id=\"sk-estimator-id-143\" type=\"checkbox\" ><label for=\"sk-estimator-id-143\" class=\"sk-toggleable__label sk-toggleable__label-arrow\">transformer: ColumnTransformer</label><div class=\"sk-toggleable__content\"><pre>ColumnTransformer(transformers=[(&#x27;cat&#x27;,\n                                 Pipeline(steps=[(&#x27;cat_impute&#x27;,\n                                                  SimpleImputer(strategy=&#x27;most_frequent&#x27;)),\n                                                 (&#x27;ohe&#x27;,\n                                                  OneHotEncoder(handle_unknown=&#x27;ignore&#x27;,\n                                                                sparse_output=False)),\n                                                 (&#x27;dr&#x27;,\n                                                  TruncatedSVD(n_components=3))]),\n                                 &lt;sklearn.compose._column_transformer.make_column_selector object at 0x783d0b7979d0&gt;),\n                                (&#x27;num&#x27;,\n                                 Pipeline(steps=[(&#x27;num_impu&#x27;, SimpleImputer()),\n                                                 (&#x27;stand&#x27;, StandardScaler())]),\n                                 &lt;sklearn.compose._column_transformer.make_column_selector object at 0x783d0b7963e0&gt;)])</pre></div></div></div><div class=\"sk-parallel\"><div class=\"sk-parallel-item\"><div class=\"sk-item\"><div class=\"sk-label-container\"><div class=\"sk-label sk-toggleable\"><input class=\"sk-toggleable__control sk-hidden--visually\" id=\"sk-estimator-id-144\" type=\"checkbox\" ><label for=\"sk-estimator-id-144\" class=\"sk-toggleable__label sk-toggleable__label-arrow\">cat</label><div class=\"sk-toggleable__content\"><pre>&lt;sklearn.compose._column_transformer.make_column_selector object at 0x783d0b7979d0&gt;</pre></div></div></div><div class=\"sk-serial\"><div class=\"sk-item\"><div class=\"sk-serial\"><div class=\"sk-item\"><div class=\"sk-estimator sk-toggleable\"><input class=\"sk-toggleable__control sk-hidden--visually\" id=\"sk-estimator-id-145\" type=\"checkbox\" ><label for=\"sk-estimator-id-145\" class=\"sk-toggleable__label sk-toggleable__label-arrow\">SimpleImputer</label><div class=\"sk-toggleable__content\"><pre>SimpleImputer(strategy=&#x27;most_frequent&#x27;)</pre></div></div></div><div class=\"sk-item\"><div class=\"sk-estimator sk-toggleable\"><input class=\"sk-toggleable__control sk-hidden--visually\" id=\"sk-estimator-id-146\" type=\"checkbox\" ><label for=\"sk-estimator-id-146\" class=\"sk-toggleable__label sk-toggleable__label-arrow\">OneHotEncoder</label><div class=\"sk-toggleable__content\"><pre>OneHotEncoder(handle_unknown=&#x27;ignore&#x27;, sparse_output=False)</pre></div></div></div><div class=\"sk-item\"><div class=\"sk-estimator sk-toggleable\"><input class=\"sk-toggleable__control sk-hidden--visually\" id=\"sk-estimator-id-147\" type=\"checkbox\" ><label for=\"sk-estimator-id-147\" class=\"sk-toggleable__label sk-toggleable__label-arrow\">TruncatedSVD</label><div class=\"sk-toggleable__content\"><pre>TruncatedSVD(n_components=3)</pre></div></div></div></div></div></div></div></div><div class=\"sk-parallel-item\"><div class=\"sk-item\"><div class=\"sk-label-container\"><div class=\"sk-label sk-toggleable\"><input class=\"sk-toggleable__control sk-hidden--visually\" id=\"sk-estimator-id-148\" type=\"checkbox\" ><label for=\"sk-estimator-id-148\" class=\"sk-toggleable__label sk-toggleable__label-arrow\">num</label><div class=\"sk-toggleable__content\"><pre>&lt;sklearn.compose._column_transformer.make_column_selector object at 0x783d0b7963e0&gt;</pre></div></div></div><div class=\"sk-serial\"><div class=\"sk-item\"><div class=\"sk-serial\"><div class=\"sk-item\"><div class=\"sk-estimator sk-toggleable\"><input class=\"sk-toggleable__control sk-hidden--visually\" id=\"sk-estimator-id-149\" type=\"checkbox\" ><label for=\"sk-estimator-id-149\" class=\"sk-toggleable__label sk-toggleable__label-arrow\">SimpleImputer</label><div class=\"sk-toggleable__content\"><pre>SimpleImputer()</pre></div></div></div><div class=\"sk-item\"><div class=\"sk-estimator sk-toggleable\"><input class=\"sk-toggleable__control sk-hidden--visually\" id=\"sk-estimator-id-150\" type=\"checkbox\" ><label for=\"sk-estimator-id-150\" class=\"sk-toggleable__label sk-toggleable__label-arrow\">StandardScaler</label><div class=\"sk-toggleable__content\"><pre>StandardScaler()</pre></div></div></div></div></div></div></div></div></div></div><div class=\"sk-item\"><div class=\"sk-estimator sk-toggleable\"><input class=\"sk-toggleable__control sk-hidden--visually\" id=\"sk-estimator-id-151\" type=\"checkbox\" ><label for=\"sk-estimator-id-151\" class=\"sk-toggleable__label sk-toggleable__label-arrow\">RandomForestClassifier</label><div class=\"sk-toggleable__content\"><pre>RandomForestClassifier(n_estimators=70)</pre></div></div></div></div></div></div></div>"
          },
          "metadata": {}
        }
      ]
    },
    {
      "cell_type": "code",
      "source": [
        "model_eveluation(clf)"
      ],
      "metadata": {
        "execution": {
          "iopub.status.busy": "2024-04-27T12:51:57.819856Z",
          "iopub.execute_input": "2024-04-27T12:51:57.820517Z",
          "iopub.status.idle": "2024-04-27T12:51:58.203449Z",
          "shell.execute_reply.started": "2024-04-27T12:51:57.820486Z",
          "shell.execute_reply": "2024-04-27T12:51:58.202371Z"
        },
        "trusted": true,
        "id": "E7dP2dOFpBs7",
        "outputId": "6c751bbf-dd87-4132-bd97-7c205256e5af"
      },
      "execution_count": null,
      "outputs": [
        {
          "name": "stdout",
          "text": "the accuracy of the model is 0.9939135727328059\nthe precision of the model is 0.9939135727328059\nthe recall of the model is 0.9939604170579873\n",
          "output_type": "stream"
        },
        {
          "output_type": "display_data",
          "data": {
            "text/plain": "<Figure size 640x480 with 2 Axes>",
            "image/png": "[encoded data removed]"
          },
          "metadata": {}
        }
      ]
    },
    {
      "cell_type": "code",
      "source": [],
      "metadata": {
        "id": "ucjZZWyPpBs7"
      },
      "execution_count": null,
      "outputs": []
    }
  ]
}