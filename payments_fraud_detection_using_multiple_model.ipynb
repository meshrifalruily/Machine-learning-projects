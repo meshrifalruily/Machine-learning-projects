{
  "metadata": {
    "kernelspec": {
      "language": "python",
      "display_name": "Python 3",
      "name": "python3"
    },
    "language_info": {
      "name": "python",
      "version": "3.10.13",
      "mimetype": "text/x-python",
      "codemirror_mode": {
        "name": "ipython",
        "version": 3
      },
      "pygments_lexer": "ipython3",
      "nbconvert_exporter": "python",
      "file_extension": ".py"
    },
    "kaggle": {
      "accelerator": "none",
      "dataSources": [
        {
          "sourceId": 3478314,
          "sourceType": "datasetVersion",
          "datasetId": 2093649
        }
      ],
      "dockerImageVersionId": 30698,
      "isInternetEnabled": false,
      "language": "python",
      "sourceType": "notebook",
      "isGpuEnabled": false
    },
    "colab": {
      "name": "payments-fraud-detection_using_multiple_model",
      "provenance": [],
      "include_colab_link": true
    }
  },
  "nbformat_minor": 0,
  "nbformat": 4,
  "cells": [
    {
      "cell_type": "markdown",
      "metadata": {
        "id": "view-in-github",
        "colab_type": "text"
      },
      "source": [
        "<a href=\"https://colab.research.google.com/github/meshrifalruily/Machine-learning-projects/blob/main/payments_fraud_detection_using_multiple_model.ipynb\" target=\"_parent\"><img src=\"https://colab.research.google.com/assets/colab-badge.svg\" alt=\"Open In Colab\"/></a>"
      ]
    },
    {
      "source": [
        "\n",
        "# IMPORTANT: RUN THIS CELL IN ORDER TO IMPORT YOUR KAGGLE DATA SOURCES\n",
        "# TO THE CORRECT LOCATION (/kaggle/input) IN YOUR NOTEBOOK,\n",
        "# THEN FEEL FREE TO DELETE THIS CELL.\n",
        "# NOTE: THIS NOTEBOOK ENVIRONMENT DIFFERS FROM KAGGLE'S PYTHON\n",
        "# ENVIRONMENT SO THERE MAY BE MISSING LIBRARIES USED BY YOUR\n",
        "# NOTEBOOK.\n",
        "\n",
        "import os\n",
        "import sys\n",
        "from tempfile import NamedTemporaryFile\n",
        "from urllib.request import urlopen\n",
        "from urllib.parse import unquote, urlparse\n",
        "from urllib.error import HTTPError\n",
        "from zipfile import ZipFile\n",
        "import tarfile\n",
        "import shutil\n",
        "\n",
        "CHUNK_SIZE = 40960\n",
        "DATA_SOURCE_MAPPING = 'online-payments-fraud-detection-dataset:https%3A%2F%2Fstorage.googleapis.com%2Fkaggle-data-sets%2F2093649%2F3478314%2Fbundle%2Farchive.zip%3FX-Goog-Algorithm%3DGOOG4-RSA-SHA256%26X-Goog-Credential%3Dgcp-kaggle-com%2540kaggle-161607.iam.gserviceaccount.com%252F20240510%252Fauto%252Fstorage%252Fgoog4_request%26X-Goog-Date%3D20240510T141013Z%26X-Goog-Expires%3D259200%26X-Goog-SignedHeaders%3Dhost%26X-Goog-Signature%3D91b712d90f1fa12168ac61b567f1476f4ad7fa058ce37946e899c8d9c1f9e796034bf9b9adb50414bd6fe331a0d06d3b87f264d96bb322eb89b03eb657b3ae4a414eb3498d865ca0355e3791323de68a02b3b24f4da637d8e552eb783fb729ae7e9c3647b9361039d0d471e3a9e7f4b4edf68cbe5393910d5dd0539545b6682b2fe23a6a06a98f2d49558c6f86dea680837ab28f2af78c0a094ee20729490a5a6aeee30e55ad374f3f9555f034c20d12aebdf2552b0faf0833aff7d24f05c2c6b767e5e2777c794cc5909e66e2cf08f461e7040c81b8b3ba98beb464f679113085085899daa1e47a28d0faae9f07f86aae34a5349c8d5e5f462389e071f0cc3f'\n",
        "\n",
        "KAGGLE_INPUT_PATH='/kaggle/input'\n",
        "KAGGLE_WORKING_PATH='/kaggle/working'\n",
        "KAGGLE_SYMLINK='kaggle'\n",
        "\n",
        "!umount /kaggle/input/ 2> /dev/null\n",
        "shutil.rmtree('/kaggle/input', ignore_errors=True)\n",
        "os.makedirs(KAGGLE_INPUT_PATH, 0o777, exist_ok=True)\n",
        "os.makedirs(KAGGLE_WORKING_PATH, 0o777, exist_ok=True)\n",
        "\n",
        "try:\n",
        "  os.symlink(KAGGLE_INPUT_PATH, os.path.join(\"..\", 'input'), target_is_directory=True)\n",
        "except FileExistsError:\n",
        "  pass\n",
        "try:\n",
        "  os.symlink(KAGGLE_WORKING_PATH, os.path.join(\"..\", 'working'), target_is_directory=True)\n",
        "except FileExistsError:\n",
        "  pass\n",
        "\n",
        "for data_source_mapping in DATA_SOURCE_MAPPING.split(','):\n",
        "    directory, download_url_encoded = data_source_mapping.split(':')\n",
        "    download_url = unquote(download_url_encoded)\n",
        "    filename = urlparse(download_url).path\n",
        "    destination_path = os.path.join(KAGGLE_INPUT_PATH, directory)\n",
        "    try:\n",
        "        with urlopen(download_url) as fileres, NamedTemporaryFile() as tfile:\n",
        "            total_length = fileres.headers['content-length']\n",
        "            print(f'Downloading {directory}, {total_length} bytes compressed')\n",
        "            dl = 0\n",
        "            data = fileres.read(CHUNK_SIZE)\n",
        "            while len(data) > 0:\n",
        "                dl += len(data)\n",
        "                tfile.write(data)\n",
        "                done = int(50 * dl / int(total_length))\n",
        "                sys.stdout.write(f\"\\r[{'=' * done}{' ' * (50-done)}] {dl} bytes downloaded\")\n",
        "                sys.stdout.flush()\n",
        "                data = fileres.read(CHUNK_SIZE)\n",
        "            if filename.endswith('.zip'):\n",
        "              with ZipFile(tfile) as zfile:\n",
        "                zfile.extractall(destination_path)\n",
        "            else:\n",
        "              with tarfile.open(tfile.name) as tarfile:\n",
        "                tarfile.extractall(destination_path)\n",
        "            print(f'\\nDownloaded and uncompressed: {directory}')\n",
        "    except HTTPError as e:\n",
        "        print(f'Failed to load (likely expired) {download_url} to path {destination_path}')\n",
        "        continue\n",
        "    except OSError as e:\n",
        "        print(f'Failed to load {download_url} to path {destination_path}')\n",
        "        continue\n",
        "\n",
        "print('Data source import complete.')\n"
      ],
      "metadata": {
        "id": "QJY8R-yD1xs8"
      },
      "cell_type": "code",
      "outputs": [],
      "execution_count": null
    },
    {
      "cell_type": "code",
      "source": [
        "# This Python 3 environment comes with many helpful analytics libraries installed\n",
        "# It is defined by the kaggle/python Docker image: https://github.com/kaggle/docker-python\n",
        "# For example, here's several helpful packages to load\n",
        "\n",
        "import numpy as np # linear algebra\n",
        "import pandas as pd # data processing, CSV file I/O (e.g. pd.read_csv)\n",
        "\n",
        "# Input data files are available in the read-only \"../input/\" directory\n",
        "# For example, running this (by clicking run or pressing Shift+Enter) will list all files under the input directory\n",
        "\n"
      ],
      "metadata": {
        "_uuid": "8f2839f25d086af736a60e9eeb907d3b93b6e0e5",
        "_cell_guid": "b1076dfc-b9ad-4769-8c92-a6c4dae69d19",
        "execution": {
          "iopub.status.busy": "2024-05-10T11:18:37.694381Z",
          "iopub.execute_input": "2024-05-10T11:18:37.695204Z",
          "iopub.status.idle": "2024-05-10T11:18:37.700633Z",
          "shell.execute_reply.started": "2024-05-10T11:18:37.695168Z",
          "shell.execute_reply": "2024-05-10T11:18:37.699513Z"
        },
        "trusted": true,
        "id": "vnGzvhvJ1xtA"
      },
      "execution_count": null,
      "outputs": []
    },
    {
      "cell_type": "code",
      "source": [
        "data = pd.read_csv('/kaggle/input/online-payments-fraud-detection-dataset/PS_20174392719_1491204439457_log.csv')\n",
        "data.head(2)"
      ],
      "metadata": {
        "execution": {
          "iopub.status.busy": "2024-05-10T11:18:37.716686Z",
          "iopub.execute_input": "2024-05-10T11:18:37.717046Z",
          "iopub.status.idle": "2024-05-10T11:18:54.208902Z",
          "shell.execute_reply.started": "2024-05-10T11:18:37.71702Z",
          "shell.execute_reply": "2024-05-10T11:18:54.207701Z"
        },
        "trusted": true,
        "id": "1SsjpfmN1xtB"
      },
      "execution_count": null,
      "outputs": []
    },
    {
      "cell_type": "code",
      "source": [
        "data.info()"
      ],
      "metadata": {
        "execution": {
          "iopub.status.busy": "2024-05-10T11:18:54.211078Z",
          "iopub.execute_input": "2024-05-10T11:18:54.211448Z",
          "iopub.status.idle": "2024-05-10T11:18:54.22433Z",
          "shell.execute_reply.started": "2024-05-10T11:18:54.211418Z",
          "shell.execute_reply": "2024-05-10T11:18:54.223097Z"
        },
        "trusted": true,
        "id": "tXqrSlKw1xtB"
      },
      "execution_count": null,
      "outputs": []
    },
    {
      "cell_type": "code",
      "source": [
        "data.to_parquet('fraud_detection.parquet')"
      ],
      "metadata": {
        "execution": {
          "iopub.status.busy": "2024-05-10T11:18:54.225782Z",
          "iopub.execute_input": "2024-05-10T11:18:54.226296Z",
          "iopub.status.idle": "2024-05-10T11:19:01.018497Z",
          "shell.execute_reply.started": "2024-05-10T11:18:54.226248Z",
          "shell.execute_reply": "2024-05-10T11:19:01.017198Z"
        },
        "trusted": true,
        "id": "BJNlIzqP1xtC"
      },
      "execution_count": null,
      "outputs": []
    },
    {
      "cell_type": "code",
      "source": [
        "df = pd.read_parquet('/kaggle/working/fraud_detection.parquet')\n",
        "df.head(2)"
      ],
      "metadata": {
        "execution": {
          "iopub.status.busy": "2024-05-10T11:19:01.021747Z",
          "iopub.execute_input": "2024-05-10T11:19:01.022174Z",
          "iopub.status.idle": "2024-05-10T11:19:08.030225Z",
          "shell.execute_reply.started": "2024-05-10T11:19:01.022136Z",
          "shell.execute_reply": "2024-05-10T11:19:08.029066Z"
        },
        "trusted": true,
        "id": "GatO2ZMl1xtC"
      },
      "execution_count": null,
      "outputs": []
    },
    {
      "cell_type": "code",
      "source": [
        "df.isnull().sum()"
      ],
      "metadata": {
        "execution": {
          "iopub.status.busy": "2024-05-10T11:19:08.03165Z",
          "iopub.execute_input": "2024-05-10T11:19:08.031982Z",
          "iopub.status.idle": "2024-05-10T11:19:10.290774Z",
          "shell.execute_reply.started": "2024-05-10T11:19:08.031954Z",
          "shell.execute_reply": "2024-05-10T11:19:10.289566Z"
        },
        "trusted": true,
        "id": "UyJDwfzD1xtD"
      },
      "execution_count": null,
      "outputs": []
    },
    {
      "cell_type": "code",
      "source": [
        "df.duplicated().sum()"
      ],
      "metadata": {
        "execution": {
          "iopub.status.busy": "2024-05-10T11:19:10.292396Z",
          "iopub.execute_input": "2024-05-10T11:19:10.292716Z",
          "iopub.status.idle": "2024-05-10T11:19:23.82284Z",
          "shell.execute_reply.started": "2024-05-10T11:19:10.292689Z",
          "shell.execute_reply": "2024-05-10T11:19:23.821662Z"
        },
        "trusted": true,
        "id": "FjXg1_7O1xtD"
      },
      "execution_count": null,
      "outputs": []
    },
    {
      "cell_type": "code",
      "source": [
        "df.dtypes.value_counts()"
      ],
      "metadata": {
        "execution": {
          "iopub.status.busy": "2024-05-10T11:19:23.824331Z",
          "iopub.execute_input": "2024-05-10T11:19:23.824682Z",
          "iopub.status.idle": "2024-05-10T11:19:23.835546Z",
          "shell.execute_reply.started": "2024-05-10T11:19:23.824653Z",
          "shell.execute_reply": "2024-05-10T11:19:23.834203Z"
        },
        "trusted": true,
        "id": "q3L7HQ5f1xtE"
      },
      "execution_count": null,
      "outputs": []
    },
    {
      "cell_type": "code",
      "source": [
        "df.select_dtypes('object').columns"
      ],
      "metadata": {
        "execution": {
          "iopub.status.busy": "2024-05-10T11:19:23.83911Z",
          "iopub.execute_input": "2024-05-10T11:19:23.839604Z",
          "iopub.status.idle": "2024-05-10T11:19:24.287761Z",
          "shell.execute_reply.started": "2024-05-10T11:19:23.83957Z",
          "shell.execute_reply": "2024-05-10T11:19:24.286572Z"
        },
        "trusted": true,
        "id": "8IlBDVit1xtE"
      },
      "execution_count": null,
      "outputs": []
    },
    {
      "cell_type": "code",
      "source": [
        "def types_count(col):\n",
        "    return df[col].value_counts()\n",
        "\n",
        "for col in df.select_dtypes('object').columns:\n",
        "    print(types_count(col))\n",
        "    print('#'*50)"
      ],
      "metadata": {
        "execution": {
          "iopub.status.busy": "2024-05-10T11:19:24.289338Z",
          "iopub.execute_input": "2024-05-10T11:19:24.289727Z",
          "iopub.status.idle": "2024-05-10T11:19:37.826139Z",
          "shell.execute_reply.started": "2024-05-10T11:19:24.289699Z",
          "shell.execute_reply": "2024-05-10T11:19:37.825078Z"
        },
        "trusted": true,
        "id": "VIKA-Bpv1xtF"
      },
      "execution_count": null,
      "outputs": []
    },
    {
      "cell_type": "code",
      "source": [
        "cleaned_df =df.drop(['nameOrig','nameDest','isFlaggedFraud'], axis=1)"
      ],
      "metadata": {
        "execution": {
          "iopub.status.busy": "2024-05-10T11:19:37.830341Z",
          "iopub.execute_input": "2024-05-10T11:19:37.830675Z",
          "iopub.status.idle": "2024-05-10T11:19:38.00242Z",
          "shell.execute_reply.started": "2024-05-10T11:19:37.830646Z",
          "shell.execute_reply": "2024-05-10T11:19:38.001425Z"
        },
        "trusted": true,
        "id": "AqojquDx1xtF"
      },
      "execution_count": null,
      "outputs": []
    },
    {
      "cell_type": "code",
      "source": [
        "cleaned_df.head(2)"
      ],
      "metadata": {
        "execution": {
          "iopub.status.busy": "2024-05-10T11:19:38.003492Z",
          "iopub.execute_input": "2024-05-10T11:19:38.00379Z",
          "iopub.status.idle": "2024-05-10T11:19:38.018835Z",
          "shell.execute_reply.started": "2024-05-10T11:19:38.003765Z",
          "shell.execute_reply": "2024-05-10T11:19:38.017647Z"
        },
        "trusted": true,
        "id": "acD75q6N1xtF"
      },
      "execution_count": null,
      "outputs": []
    },
    {
      "cell_type": "code",
      "source": [
        "cleaned_df.isFraud.value_counts()"
      ],
      "metadata": {
        "execution": {
          "iopub.status.busy": "2024-05-10T11:19:38.020198Z",
          "iopub.execute_input": "2024-05-10T11:19:38.020528Z",
          "iopub.status.idle": "2024-05-10T11:19:38.092882Z",
          "shell.execute_reply.started": "2024-05-10T11:19:38.0205Z",
          "shell.execute_reply": "2024-05-10T11:19:38.091636Z"
        },
        "trusted": true,
        "id": "yFJ9SSqC1xtF"
      },
      "execution_count": null,
      "outputs": []
    },
    {
      "cell_type": "code",
      "source": [
        "import matplotlib.pyplot as plt\n",
        "import seaborn as sns\n",
        "\n",
        "sns.countplot(data=df, x= 'isFraud')\n",
        "plt.show()"
      ],
      "metadata": {
        "execution": {
          "iopub.status.busy": "2024-05-10T11:19:38.09437Z",
          "iopub.execute_input": "2024-05-10T11:19:38.094782Z",
          "iopub.status.idle": "2024-05-10T11:19:38.789016Z",
          "shell.execute_reply.started": "2024-05-10T11:19:38.094744Z",
          "shell.execute_reply": "2024-05-10T11:19:38.78792Z"
        },
        "trusted": true,
        "id": "89appSbq1xtG"
      },
      "execution_count": null,
      "outputs": []
    },
    {
      "cell_type": "code",
      "source": [
        "def down_sample(df):\n",
        "    not_fraud = df[df['isFraud']==0].sample(n=8213, random_state=42)\n",
        "    fraude = df[df['isFraud']==1]\n",
        "    df = pd.concat([not_fraud , fraude], axis=0).reset_index(drop=True)\n",
        "    return df\n",
        "\n",
        "sample_df = down_sample(cleaned_df)"
      ],
      "metadata": {
        "execution": {
          "iopub.status.busy": "2024-05-10T11:19:38.790249Z",
          "iopub.execute_input": "2024-05-10T11:19:38.790562Z",
          "iopub.status.idle": "2024-05-10T11:19:39.462309Z",
          "shell.execute_reply.started": "2024-05-10T11:19:38.790534Z",
          "shell.execute_reply": "2024-05-10T11:19:39.461324Z"
        },
        "trusted": true,
        "id": "7GfzkD5p1xtG"
      },
      "execution_count": null,
      "outputs": []
    },
    {
      "cell_type": "code",
      "source": [
        "sample_df.head(2)"
      ],
      "metadata": {
        "execution": {
          "iopub.status.busy": "2024-05-10T11:19:39.463635Z",
          "iopub.execute_input": "2024-05-10T11:19:39.463961Z",
          "iopub.status.idle": "2024-05-10T11:19:39.479698Z",
          "shell.execute_reply.started": "2024-05-10T11:19:39.463936Z",
          "shell.execute_reply": "2024-05-10T11:19:39.478559Z"
        },
        "trusted": true,
        "id": "zHHW4shi1xtG"
      },
      "execution_count": null,
      "outputs": []
    },
    {
      "cell_type": "code",
      "source": [
        "sns.countplot(data=sample_df, x= 'isFraud')\n",
        "plt.show()"
      ],
      "metadata": {
        "execution": {
          "iopub.status.busy": "2024-05-10T11:19:39.480917Z",
          "iopub.execute_input": "2024-05-10T11:19:39.481244Z",
          "iopub.status.idle": "2024-05-10T11:19:39.707194Z",
          "shell.execute_reply.started": "2024-05-10T11:19:39.481212Z",
          "shell.execute_reply": "2024-05-10T11:19:39.706165Z"
        },
        "trusted": true,
        "id": "j8pku3Nx1xtG"
      },
      "execution_count": null,
      "outputs": []
    },
    {
      "cell_type": "code",
      "source": [
        "from sklearn.preprocessing import OneHotEncoder, StandardScaler\n",
        "from sklearn.impute import SimpleImputer\n",
        "from sklearn.pipeline import Pipeline\n",
        "from sklearn.compose import make_column_selector, ColumnTransformer\n",
        "from sklearn.decomposition import TruncatedSVD\n",
        "\n",
        "cat_col = make_column_selector(dtype_include= 'object')\n",
        "num_col = make_column_selector(dtype_include='number')\n",
        "\n",
        "\n",
        "cat_pipe=Pipeline([\n",
        "\n",
        "    ('cat_impute', SimpleImputer(strategy= 'most_frequent')),\n",
        "    ('ohe', OneHotEncoder(sparse_output= False, handle_unknown= 'ignore')),\n",
        "    ('dr', TruncatedSVD(n_components=3))\n",
        "\n",
        "\n",
        "])\n",
        "\n",
        "num_pipe = Pipeline([\n",
        "\n",
        "    ('num_impute', SimpleImputer(strategy= 'mean')),\n",
        "    ('stand', StandardScaler(with_mean=True))\n",
        "\n",
        "])\n",
        "\n",
        "\n",
        "transformer = ColumnTransformer([\n",
        "\n",
        "    ('cat', cat_pipe, cat_col),\n",
        "    ('num', num_pipe, num_col)\n",
        "]).set_output(transform='pandas')\n",
        "\n",
        "\n",
        "print(transformer)"
      ],
      "metadata": {
        "execution": {
          "iopub.status.busy": "2024-05-10T11:19:39.70884Z",
          "iopub.execute_input": "2024-05-10T11:19:39.709819Z",
          "iopub.status.idle": "2024-05-10T11:19:39.737258Z",
          "shell.execute_reply.started": "2024-05-10T11:19:39.709776Z",
          "shell.execute_reply": "2024-05-10T11:19:39.735994Z"
        },
        "trusted": true,
        "id": "vmYnd17h1xtG"
      },
      "execution_count": null,
      "outputs": []
    },
    {
      "cell_type": "code",
      "source": [
        "from sklearn.model_selection import train_test_split, cross_val_score, cross_val_predict\n",
        "\n",
        "features = sample_df.drop('isFraud', axis=1)\n",
        "target= sample_df.isFraud\n",
        "X_train, X_test, y_train, y_test =  train_test_split(features, target, test_size=.30, shuffle=True, stratify= target, random_state=42)"
      ],
      "metadata": {
        "execution": {
          "iopub.status.busy": "2024-05-10T11:19:39.738898Z",
          "iopub.execute_input": "2024-05-10T11:19:39.739366Z",
          "iopub.status.idle": "2024-05-10T11:19:39.759355Z",
          "shell.execute_reply.started": "2024-05-10T11:19:39.739324Z",
          "shell.execute_reply": "2024-05-10T11:19:39.758347Z"
        },
        "trusted": true,
        "id": "B3s0vm9_1xtH"
      },
      "execution_count": null,
      "outputs": []
    },
    {
      "cell_type": "code",
      "source": [
        "from sklearn.metrics import *\n",
        "def model_eveluation(model, X_test= X_test, y_test= y_test):\n",
        "    prediction = model.predict(X_test)\n",
        "    print(f'the traning accuracy of the model is {round(accuracy_score(model.predict(X_train), y_train),4)*100}%')\n",
        "    print(f'the testing accuracy of the model is {round(accuracy_score(prediction, y_test),4)*100}%')\n",
        "    print(f'the precision of the model is {precision_score(prediction, y_test, average= \"macro\")}')\n",
        "    print(f'the recall of the model is {recall_score(prediction, y_test, average=\"macro\")}')\n",
        "    print(f'the f1 of the model is {f1_score(prediction, y_test, average=\"macro\")}')\n",
        "    cm = confusion_matrix(prediction, y_test)\n",
        "    ConfusionMatrixDisplay(cm).plot()"
      ],
      "metadata": {
        "execution": {
          "iopub.status.busy": "2024-05-10T11:19:39.760739Z",
          "iopub.execute_input": "2024-05-10T11:19:39.761078Z",
          "iopub.status.idle": "2024-05-10T11:19:39.768649Z",
          "shell.execute_reply.started": "2024-05-10T11:19:39.761049Z",
          "shell.execute_reply": "2024-05-10T11:19:39.767458Z"
        },
        "trusted": true,
        "id": "gNj4yoD51xtH"
      },
      "execution_count": null,
      "outputs": []
    },
    {
      "cell_type": "code",
      "source": [
        "from sklearn.linear_model import LogisticRegression\n",
        "\n",
        "clf = Pipeline([\n",
        "\n",
        "    ('transformer', transformer),\n",
        "    ('model',LogisticRegression(max_iter=2000 , penalty= 'l2', C=1) )\n",
        "])\n",
        "\n",
        "clf.fit(X_train, y_train)"
      ],
      "metadata": {
        "execution": {
          "iopub.status.busy": "2024-05-10T11:19:39.770045Z",
          "iopub.execute_input": "2024-05-10T11:19:39.770637Z",
          "iopub.status.idle": "2024-05-10T11:19:40.153613Z",
          "shell.execute_reply.started": "2024-05-10T11:19:39.77059Z",
          "shell.execute_reply": "2024-05-10T11:19:40.152502Z"
        },
        "trusted": true,
        "id": "XZQua-YY1xtH"
      },
      "execution_count": null,
      "outputs": []
    },
    {
      "cell_type": "code",
      "source": [
        "cross_val_score(clf, features, target, cv=5, scoring='accuracy')"
      ],
      "metadata": {
        "execution": {
          "iopub.status.busy": "2024-05-10T11:19:40.155146Z",
          "iopub.execute_input": "2024-05-10T11:19:40.15559Z",
          "iopub.status.idle": "2024-05-10T11:19:41.414042Z",
          "shell.execute_reply.started": "2024-05-10T11:19:40.155544Z",
          "shell.execute_reply": "2024-05-10T11:19:41.412552Z"
        },
        "trusted": true,
        "id": "W5nvZvwQ1xtH"
      },
      "execution_count": null,
      "outputs": []
    },
    {
      "cell_type": "code",
      "source": [
        "cross_val_score(clf, features, target, cv=5, scoring='accuracy').mean()"
      ],
      "metadata": {
        "execution": {
          "iopub.status.busy": "2024-05-10T11:19:41.416021Z",
          "iopub.execute_input": "2024-05-10T11:19:41.41727Z",
          "iopub.status.idle": "2024-05-10T11:19:42.688677Z",
          "shell.execute_reply.started": "2024-05-10T11:19:41.417215Z",
          "shell.execute_reply": "2024-05-10T11:19:42.687328Z"
        },
        "trusted": true,
        "id": "_iPO16Ef1xtH"
      },
      "execution_count": null,
      "outputs": []
    },
    {
      "cell_type": "code",
      "source": [
        "sum(cross_val_predict(clf, X_test, y_test)==y_test)/len(y_test)"
      ],
      "metadata": {
        "execution": {
          "iopub.status.busy": "2024-05-10T11:19:42.690946Z",
          "iopub.execute_input": "2024-05-10T11:19:42.691918Z",
          "iopub.status.idle": "2024-05-10T11:19:43.317479Z",
          "shell.execute_reply.started": "2024-05-10T11:19:42.691864Z",
          "shell.execute_reply": "2024-05-10T11:19:43.316032Z"
        },
        "trusted": true,
        "id": "_JpcwQyq1xtI"
      },
      "execution_count": null,
      "outputs": []
    },
    {
      "cell_type": "code",
      "source": [
        "feature_names = clf['model'].feature_names_in_\n",
        "model_coef = clf['model'].coef_\n",
        "model_coef"
      ],
      "metadata": {
        "execution": {
          "iopub.status.busy": "2024-05-10T11:19:43.319921Z",
          "iopub.execute_input": "2024-05-10T11:19:43.320944Z",
          "iopub.status.idle": "2024-05-10T11:19:43.331457Z",
          "shell.execute_reply.started": "2024-05-10T11:19:43.32089Z",
          "shell.execute_reply": "2024-05-10T11:19:43.330135Z"
        },
        "trusted": true,
        "id": "9-RlL-no1xtI"
      },
      "execution_count": null,
      "outputs": []
    },
    {
      "cell_type": "code",
      "source": [
        "def plot_coef(feature_names, model_coef):\n",
        "\n",
        "    plt.bar(feature_names, model_coef)\n",
        "    plt.xticks(rotation=45)\n",
        "    plt.ylabel('Columns weights')\n",
        "    plt.title('Model Coefficients')\n",
        "    plt.show()\n",
        "\n",
        "plot_coef(feature_names, model_coef[0])"
      ],
      "metadata": {
        "execution": {
          "iopub.status.busy": "2024-05-10T11:19:43.33489Z",
          "iopub.execute_input": "2024-05-10T11:19:43.336112Z",
          "iopub.status.idle": "2024-05-10T11:19:43.644526Z",
          "shell.execute_reply.started": "2024-05-10T11:19:43.336054Z",
          "shell.execute_reply": "2024-05-10T11:19:43.643435Z"
        },
        "trusted": true,
        "id": "CmQ4Oqjj1xtI"
      },
      "execution_count": null,
      "outputs": []
    },
    {
      "cell_type": "code",
      "source": [
        "model_eveluation(clf)"
      ],
      "metadata": {
        "execution": {
          "iopub.status.busy": "2024-05-10T11:19:43.645949Z",
          "iopub.execute_input": "2024-05-10T11:19:43.646357Z",
          "iopub.status.idle": "2024-05-10T11:19:44.103398Z",
          "shell.execute_reply.started": "2024-05-10T11:19:43.646318Z",
          "shell.execute_reply": "2024-05-10T11:19:44.102155Z"
        },
        "trusted": true,
        "id": "VNbAv8JL1xtI"
      },
      "execution_count": null,
      "outputs": []
    },
    {
      "cell_type": "markdown",
      "source": [
        "## Tune Logistic Regression Pipeline"
      ],
      "metadata": {
        "id": "wVMZ76Ea1xtI"
      }
    },
    {
      "cell_type": "code",
      "source": [
        "from sklearn.model_selection import GridSearchCV\n",
        "\n",
        "params = {'transformer__cat__dr__n_components':[2,3],\n",
        "         'transformer__num__stand__with_mean':[True, False],\n",
        "          'transformer__num__num_impute__strategy':['mean', 'median'],\n",
        "         'model__C':[0.001, 0.01, 0.1, 1, 10,100]}\n",
        "\n",
        "gscv = GridSearchCV(clf, params, cv=3, scoring = 'f1', n_jobs=-1)\n",
        "\n",
        "gscv.fit(X_train, y_train)"
      ],
      "metadata": {
        "execution": {
          "iopub.status.busy": "2024-05-10T11:19:44.105188Z",
          "iopub.execute_input": "2024-05-10T11:19:44.10553Z",
          "iopub.status.idle": "2024-05-10T11:19:51.810786Z",
          "shell.execute_reply.started": "2024-05-10T11:19:44.105489Z",
          "shell.execute_reply": "2024-05-10T11:19:51.8095Z"
        },
        "trusted": true,
        "id": "uTg1qlyk1xtK"
      },
      "execution_count": null,
      "outputs": []
    },
    {
      "cell_type": "code",
      "source": [
        "print(f'best params {gscv.best_params_}')\n",
        "print(f'best f1 score {gscv.best_score_}')\n",
        "best_model = gscv.best_estimator_"
      ],
      "metadata": {
        "execution": {
          "iopub.status.busy": "2024-05-10T11:19:51.820811Z",
          "iopub.execute_input": "2024-05-10T11:19:51.821234Z",
          "iopub.status.idle": "2024-05-10T11:19:51.827174Z",
          "shell.execute_reply.started": "2024-05-10T11:19:51.821197Z",
          "shell.execute_reply": "2024-05-10T11:19:51.826418Z"
        },
        "trusted": true,
        "id": "N44CQAVl1xtK"
      },
      "execution_count": null,
      "outputs": []
    },
    {
      "cell_type": "code",
      "source": [
        "print(best_model['model'].coef_[0])\n",
        "plot_coef(best_model['model'].feature_names_in_, best_model['model'].coef_[0])"
      ],
      "metadata": {
        "execution": {
          "iopub.status.busy": "2024-05-10T11:19:51.828825Z",
          "iopub.execute_input": "2024-05-10T11:19:51.829239Z",
          "iopub.status.idle": "2024-05-10T11:19:52.156434Z",
          "shell.execute_reply.started": "2024-05-10T11:19:51.829202Z",
          "shell.execute_reply": "2024-05-10T11:19:52.155192Z"
        },
        "trusted": true,
        "id": "PBy7SiVN1xtK"
      },
      "execution_count": null,
      "outputs": []
    },
    {
      "cell_type": "code",
      "source": [
        "print(best_model.score(X_train, y_train)*100)\n",
        "best_model.score(X_test, y_test)*100"
      ],
      "metadata": {
        "execution": {
          "iopub.status.busy": "2024-05-10T11:19:52.157955Z",
          "iopub.execute_input": "2024-05-10T11:19:52.158399Z",
          "iopub.status.idle": "2024-05-10T11:19:52.228445Z",
          "shell.execute_reply.started": "2024-05-10T11:19:52.158358Z",
          "shell.execute_reply": "2024-05-10T11:19:52.2268Z"
        },
        "trusted": true,
        "id": "G7jpCqKi1xtK"
      },
      "execution_count": null,
      "outputs": []
    },
    {
      "cell_type": "markdown",
      "source": [
        "## Using SVC"
      ],
      "metadata": {
        "id": "Zqmi7yn_1xtL"
      }
    },
    {
      "cell_type": "code",
      "source": [
        "from sklearn.svm import SVC\n",
        "\n",
        "clf = Pipeline([\n",
        "\n",
        "    ('transformer', transformer),\n",
        "    ('model',SVC(kernel= 'linear', C=10) )\n",
        "])\n",
        "\n",
        "clf.fit(X_train, y_train)"
      ],
      "metadata": {
        "execution": {
          "iopub.status.busy": "2024-05-10T11:19:52.230747Z",
          "iopub.execute_input": "2024-05-10T11:19:52.23219Z",
          "iopub.status.idle": "2024-05-10T11:19:55.10298Z",
          "shell.execute_reply.started": "2024-05-10T11:19:52.232131Z",
          "shell.execute_reply": "2024-05-10T11:19:55.101886Z"
        },
        "trusted": true,
        "id": "VgHYfIqy1xtL"
      },
      "execution_count": null,
      "outputs": []
    },
    {
      "cell_type": "code",
      "source": [
        "model_eveluation(clf)"
      ],
      "metadata": {
        "execution": {
          "iopub.status.busy": "2024-05-10T11:19:55.104458Z",
          "iopub.execute_input": "2024-05-10T11:19:55.104814Z",
          "iopub.status.idle": "2024-05-10T11:19:57.150775Z",
          "shell.execute_reply.started": "2024-05-10T11:19:55.104783Z",
          "shell.execute_reply": "2024-05-10T11:19:57.14967Z"
        },
        "trusted": true,
        "id": "NrHenxo21xtL"
      },
      "execution_count": null,
      "outputs": []
    },
    {
      "cell_type": "markdown",
      "source": [
        "# Tune SVC Pipeline"
      ],
      "metadata": {
        "id": "I7hX8AN21xtL"
      }
    },
    {
      "cell_type": "code",
      "source": [
        "from sklearn.model_selection import GridSearchCV\n",
        "\n",
        "params = {\n",
        "\n",
        "         'model__kernel':['rbf', 'linear','poly','sigmoid'],\n",
        "         'model__C':np.random.uniform(0.001,500, 10)\n",
        "         }\n",
        "\n",
        "gscv = GridSearchCV(clf, params, cv=3, scoring = 'f1', n_jobs=-1)\n",
        "\n",
        "gscv.fit(X_train, y_train)"
      ],
      "metadata": {
        "execution": {
          "iopub.status.busy": "2024-05-10T11:19:57.152191Z",
          "iopub.execute_input": "2024-05-10T11:19:57.152572Z",
          "iopub.status.idle": "2024-05-10T11:21:55.134555Z",
          "shell.execute_reply.started": "2024-05-10T11:19:57.152543Z",
          "shell.execute_reply": "2024-05-10T11:21:55.133453Z"
        },
        "trusted": true,
        "id": "-17iETxF1xtL"
      },
      "execution_count": null,
      "outputs": []
    },
    {
      "cell_type": "code",
      "source": [
        "print(f'best params {gscv.best_params_}')\n",
        "print(f'best f1 score {gscv.best_score_}') # avarage score of the validation split of the traning data\n",
        "best_model = gscv.best_estimator_\n"
      ],
      "metadata": {
        "execution": {
          "iopub.status.busy": "2024-05-10T11:21:55.136074Z",
          "iopub.execute_input": "2024-05-10T11:21:55.136491Z",
          "iopub.status.idle": "2024-05-10T11:21:55.141996Z",
          "shell.execute_reply.started": "2024-05-10T11:21:55.13646Z",
          "shell.execute_reply": "2024-05-10T11:21:55.140971Z"
        },
        "trusted": true,
        "id": "o7Tenmpq1xtL"
      },
      "execution_count": null,
      "outputs": []
    },
    {
      "cell_type": "code",
      "source": [
        "print(best_model.score(X_train, y_train))\n",
        "print(best_model.score(X_test, y_test))"
      ],
      "metadata": {
        "execution": {
          "iopub.status.busy": "2024-05-10T11:21:55.143436Z",
          "iopub.execute_input": "2024-05-10T11:21:55.14384Z",
          "iopub.status.idle": "2024-05-10T11:21:57.304476Z",
          "shell.execute_reply.started": "2024-05-10T11:21:55.143812Z",
          "shell.execute_reply": "2024-05-10T11:21:57.30336Z"
        },
        "trusted": true,
        "id": "HERjGk8h1xtR"
      },
      "execution_count": null,
      "outputs": []
    },
    {
      "cell_type": "markdown",
      "source": [
        "## Using RandomForest"
      ],
      "metadata": {
        "id": "-R9YMt2N1xtR"
      }
    },
    {
      "cell_type": "code",
      "source": [
        "from sklearn.ensemble import RandomForestClassifier\n",
        "\n",
        "clf = Pipeline([\n",
        "\n",
        "    ('transformer', transformer),\n",
        "    ('model',RandomForestClassifier(random_state=42) )\n",
        "])\n",
        "\n",
        "clf.fit(X_train, y_train)"
      ],
      "metadata": {
        "execution": {
          "iopub.status.busy": "2024-05-10T11:21:57.305818Z",
          "iopub.execute_input": "2024-05-10T11:21:57.306135Z",
          "iopub.status.idle": "2024-05-10T11:21:58.888807Z",
          "shell.execute_reply.started": "2024-05-10T11:21:57.306107Z",
          "shell.execute_reply": "2024-05-10T11:21:58.887544Z"
        },
        "trusted": true,
        "id": "kblaUbOb1xtR"
      },
      "execution_count": null,
      "outputs": []
    },
    {
      "cell_type": "code",
      "source": [
        "model_eveluation(clf)"
      ],
      "metadata": {
        "execution": {
          "iopub.status.busy": "2024-05-10T11:21:58.890416Z",
          "iopub.execute_input": "2024-05-10T11:21:58.891321Z",
          "iopub.status.idle": "2024-05-10T11:21:59.408794Z",
          "shell.execute_reply.started": "2024-05-10T11:21:58.891261Z",
          "shell.execute_reply": "2024-05-10T11:21:59.407633Z"
        },
        "trusted": true,
        "id": "X-GfydFe1xtR"
      },
      "execution_count": null,
      "outputs": []
    },
    {
      "cell_type": "code",
      "source": [
        "features_im = clf['model'].feature_importances_\n",
        "col_names = clf['model'].feature_names_in_\n",
        "\n",
        "#plt.style.use('ggplot')\n",
        "plt.style.use('fivethirtyeight')\n",
        "plt.bar(col_names, features_im )\n",
        "plt.xticks(rotation= 90)\n",
        "plt.title('Features Importance')\n",
        "plt.show()"
      ],
      "metadata": {
        "execution": {
          "iopub.status.busy": "2024-05-10T11:21:59.41026Z",
          "iopub.execute_input": "2024-05-10T11:21:59.410667Z",
          "iopub.status.idle": "2024-05-10T11:21:59.740456Z",
          "shell.execute_reply.started": "2024-05-10T11:21:59.410637Z",
          "shell.execute_reply": "2024-05-10T11:21:59.7392Z"
        },
        "trusted": true,
        "id": "mfkxiXaE1xtR"
      },
      "execution_count": null,
      "outputs": []
    },
    {
      "cell_type": "markdown",
      "source": [
        "# Tune RandomForest"
      ],
      "metadata": {
        "id": "GoFuGlT61xtS"
      }
    },
    {
      "cell_type": "code",
      "source": [
        "params = {\n",
        "          'model__n_estimators':[50, 100, 150,200],\n",
        "          'model__max_depth': [3,5,10,15,20],\n",
        "          'model__max_samples':[0.7, 0.9, 1.0]\n",
        "\n",
        "           }\n",
        "gscv = GridSearchCV(clf, params, cv=3, scoring='f1', n_jobs=-1)\n",
        "\n",
        "gscv.fit(X_train, y_train)"
      ],
      "metadata": {
        "execution": {
          "iopub.status.busy": "2024-05-10T11:21:59.742109Z",
          "iopub.execute_input": "2024-05-10T11:21:59.742513Z",
          "iopub.status.idle": "2024-05-10T11:23:08.947731Z",
          "shell.execute_reply.started": "2024-05-10T11:21:59.742472Z",
          "shell.execute_reply": "2024-05-10T11:23:08.946582Z"
        },
        "trusted": true,
        "id": "gaWTfeJZ1xtS"
      },
      "execution_count": null,
      "outputs": []
    },
    {
      "cell_type": "code",
      "source": [
        "print(f'RF best params {gscv.best_params_}')\n",
        "print(f'RF best f1 score {gscv.best_score_}') # avarage score of the validation split of the traning data\n",
        "best_model = gscv.best_estimator_\n"
      ],
      "metadata": {
        "execution": {
          "iopub.status.busy": "2024-05-10T11:23:08.949172Z",
          "iopub.execute_input": "2024-05-10T11:23:08.949544Z",
          "iopub.status.idle": "2024-05-10T11:23:08.955258Z",
          "shell.execute_reply.started": "2024-05-10T11:23:08.949516Z",
          "shell.execute_reply": "2024-05-10T11:23:08.95436Z"
        },
        "trusted": true,
        "id": "-xaN-JIE1xtS"
      },
      "execution_count": null,
      "outputs": []
    },
    {
      "cell_type": "code",
      "source": [
        "print(model_eveluation(best_model))"
      ],
      "metadata": {
        "execution": {
          "iopub.status.busy": "2024-05-10T11:23:08.956835Z",
          "iopub.execute_input": "2024-05-10T11:23:08.957199Z",
          "iopub.status.idle": "2024-05-10T11:23:09.418684Z",
          "shell.execute_reply.started": "2024-05-10T11:23:08.957171Z",
          "shell.execute_reply": "2024-05-10T11:23:09.417398Z"
        },
        "trusted": true,
        "id": "Xslgoalf1xtS"
      },
      "execution_count": null,
      "outputs": []
    },
    {
      "cell_type": "markdown",
      "source": [
        "![PHOTO-2024-05-05-18-35-37 2.jpg](attachment:c279f988-703a-4518-b391-90d3c54ead14.jpg)"
      ],
      "metadata": {
        "id": "7-SmWOmF1xtT"
      }
    },
    {
      "cell_type": "code",
      "source": [
        "from xgboost import XGBClassifier\n",
        "\n",
        "\n",
        "clf = Pipeline([\n",
        "\n",
        "    ('trasn', transformer),\n",
        "    ('model',XGBClassifier(learning_rate = 0.1, n_estimators=100))\n",
        "])\n",
        "\n",
        "\n",
        "clf.fit(X_train, y_train)"
      ],
      "metadata": {
        "execution": {
          "iopub.status.busy": "2024-05-10T11:23:09.420226Z",
          "iopub.execute_input": "2024-05-10T11:23:09.420648Z",
          "iopub.status.idle": "2024-05-10T11:23:10.050343Z",
          "shell.execute_reply.started": "2024-05-10T11:23:09.420616Z",
          "shell.execute_reply": "2024-05-10T11:23:10.049162Z"
        },
        "trusted": true,
        "id": "fpG14ams1xtT"
      },
      "execution_count": null,
      "outputs": []
    },
    {
      "cell_type": "code",
      "source": [
        "clf.score(X_train, y_train)"
      ],
      "metadata": {
        "execution": {
          "iopub.status.busy": "2024-05-10T11:23:10.05185Z",
          "iopub.execute_input": "2024-05-10T11:23:10.05242Z",
          "iopub.status.idle": "2024-05-10T11:23:10.09433Z",
          "shell.execute_reply.started": "2024-05-10T11:23:10.05238Z",
          "shell.execute_reply": "2024-05-10T11:23:10.093081Z"
        },
        "trusted": true,
        "id": "sO-WEzZ-1xtT"
      },
      "execution_count": null,
      "outputs": []
    },
    {
      "cell_type": "code",
      "source": [
        "model_eveluation(clf)"
      ],
      "metadata": {
        "execution": {
          "iopub.status.busy": "2024-05-10T11:23:10.095706Z",
          "iopub.execute_input": "2024-05-10T11:23:10.096329Z",
          "iopub.status.idle": "2024-05-10T11:23:10.480331Z",
          "shell.execute_reply.started": "2024-05-10T11:23:10.096298Z",
          "shell.execute_reply": "2024-05-10T11:23:10.47899Z"
        },
        "trusted": true,
        "id": "kbCoMe7m1xtT"
      },
      "execution_count": null,
      "outputs": []
    },
    {
      "cell_type": "markdown",
      "source": [
        "# KNN"
      ],
      "metadata": {
        "id": "CQ88V1ZX1xtT"
      }
    },
    {
      "cell_type": "code",
      "source": [
        "from sklearn.neighbors import KNeighborsClassifier\n",
        "\n",
        "knn = Pipeline([\n",
        "    ('transformer', transformer),\n",
        "    ('model', KNeighborsClassifier())\n",
        "])\n",
        "\n",
        "knn.fit(X_train, y_train)"
      ],
      "metadata": {
        "execution": {
          "iopub.status.busy": "2024-05-10T11:23:10.482361Z",
          "iopub.execute_input": "2024-05-10T11:23:10.483105Z",
          "iopub.status.idle": "2024-05-10T11:23:10.741729Z",
          "shell.execute_reply.started": "2024-05-10T11:23:10.483064Z",
          "shell.execute_reply": "2024-05-10T11:23:10.740135Z"
        },
        "trusted": true,
        "id": "QIw9XNWJ1xtU"
      },
      "execution_count": null,
      "outputs": []
    },
    {
      "cell_type": "code",
      "source": [
        "X_test = X_test.reset_index(drop=True)"
      ],
      "metadata": {
        "execution": {
          "iopub.status.busy": "2024-05-10T11:23:10.743535Z",
          "iopub.execute_input": "2024-05-10T11:23:10.744016Z",
          "iopub.status.idle": "2024-05-10T11:23:10.750875Z",
          "shell.execute_reply.started": "2024-05-10T11:23:10.743972Z",
          "shell.execute_reply": "2024-05-10T11:23:10.749149Z"
        },
        "trusted": true,
        "id": "d6793sWX1xtU"
      },
      "execution_count": null,
      "outputs": []
    },
    {
      "cell_type": "code",
      "source": [
        "X_test"
      ],
      "metadata": {
        "execution": {
          "iopub.status.busy": "2024-05-10T11:23:10.752548Z",
          "iopub.execute_input": "2024-05-10T11:23:10.753022Z",
          "iopub.status.idle": "2024-05-10T11:23:10.782991Z",
          "shell.execute_reply.started": "2024-05-10T11:23:10.752978Z",
          "shell.execute_reply": "2024-05-10T11:23:10.781773Z"
        },
        "trusted": true,
        "id": "aN9KyqX11xtU"
      },
      "execution_count": null,
      "outputs": []
    },
    {
      "cell_type": "code",
      "source": [
        "X_test.iloc[[0]]"
      ],
      "metadata": {
        "execution": {
          "iopub.status.busy": "2024-05-10T11:23:10.784565Z",
          "iopub.execute_input": "2024-05-10T11:23:10.784973Z",
          "iopub.status.idle": "2024-05-10T11:23:10.800395Z",
          "shell.execute_reply.started": "2024-05-10T11:23:10.784937Z",
          "shell.execute_reply": "2024-05-10T11:23:10.799158Z"
        },
        "trusted": true,
        "id": "4-fg_xgo1xtU"
      },
      "execution_count": null,
      "outputs": []
    },
    {
      "cell_type": "code",
      "source": [
        "knn.predict(X_test.iloc[1].to_frame().T)"
      ],
      "metadata": {
        "execution": {
          "iopub.status.busy": "2024-05-10T11:23:10.801951Z",
          "iopub.execute_input": "2024-05-10T11:23:10.802351Z",
          "iopub.status.idle": "2024-05-10T11:23:10.83073Z",
          "shell.execute_reply.started": "2024-05-10T11:23:10.802314Z",
          "shell.execute_reply": "2024-05-10T11:23:10.829581Z"
        },
        "trusted": true,
        "id": "KqgHcRJv1xtU"
      },
      "execution_count": null,
      "outputs": []
    },
    {
      "cell_type": "code",
      "source": [
        "knn.predict_proba(X_test.iloc[1].to_frame().T)"
      ],
      "metadata": {
        "execution": {
          "iopub.status.busy": "2024-05-10T11:23:10.832266Z",
          "iopub.execute_input": "2024-05-10T11:23:10.832724Z",
          "iopub.status.idle": "2024-05-10T11:23:10.857599Z",
          "shell.execute_reply.started": "2024-05-10T11:23:10.832687Z",
          "shell.execute_reply": "2024-05-10T11:23:10.856459Z"
        },
        "trusted": true,
        "id": "MmTZXIeY1xtV"
      },
      "execution_count": null,
      "outputs": []
    },
    {
      "cell_type": "code",
      "source": [
        "knn.predict_proba(X_test.iloc[1].to_frame().T).argmax()"
      ],
      "metadata": {
        "execution": {
          "iopub.status.busy": "2024-05-10T11:23:10.859167Z",
          "iopub.execute_input": "2024-05-10T11:23:10.859877Z",
          "iopub.status.idle": "2024-05-10T11:23:10.882971Z",
          "shell.execute_reply.started": "2024-05-10T11:23:10.859839Z",
          "shell.execute_reply": "2024-05-10T11:23:10.881601Z"
        },
        "trusted": true,
        "id": "dILXKkHR1xtV"
      },
      "execution_count": null,
      "outputs": []
    },
    {
      "cell_type": "code",
      "source": [
        "X_test['prediction'] = knn.predict(X_test)\n",
        "X_test['predcition_proba'] = knn.predict_proba(X_test)[:,1]\n",
        "X_test"
      ],
      "metadata": {
        "execution": {
          "iopub.status.busy": "2024-05-10T11:23:10.884299Z",
          "iopub.execute_input": "2024-05-10T11:23:10.884729Z",
          "iopub.status.idle": "2024-05-10T11:23:11.507578Z",
          "shell.execute_reply.started": "2024-05-10T11:23:10.884687Z",
          "shell.execute_reply": "2024-05-10T11:23:11.50645Z"
        },
        "trusted": true,
        "id": "x03ejhnV1xtV"
      },
      "execution_count": null,
      "outputs": []
    },
    {
      "cell_type": "code",
      "source": [
        "model_eveluation(knn)"
      ],
      "metadata": {
        "execution": {
          "iopub.status.busy": "2024-05-10T11:23:11.509043Z",
          "iopub.execute_input": "2024-05-10T11:23:11.509484Z",
          "iopub.status.idle": "2024-05-10T11:23:13.248585Z",
          "shell.execute_reply.started": "2024-05-10T11:23:11.509447Z",
          "shell.execute_reply": "2024-05-10T11:23:13.24746Z"
        },
        "trusted": true,
        "id": "eghdLckD1xtV"
      },
      "execution_count": null,
      "outputs": []
    },
    {
      "cell_type": "code",
      "source": [
        "params = {\n",
        "\n",
        "    'model__n_neighbors':[5,7,10,15,30,50,100]\n",
        "}\n",
        "\n",
        "gscv = GridSearchCV(knn, params, cv=3, scoring = 'f1', n_jobs =-1)\n",
        "\n",
        "gscv.fit(X_train, y_train)"
      ],
      "metadata": {
        "execution": {
          "iopub.status.busy": "2024-05-10T11:23:13.250424Z",
          "iopub.execute_input": "2024-05-10T11:23:13.25077Z",
          "iopub.status.idle": "2024-05-10T11:23:17.340825Z",
          "shell.execute_reply.started": "2024-05-10T11:23:13.250739Z",
          "shell.execute_reply": "2024-05-10T11:23:17.339784Z"
        },
        "trusted": true,
        "id": "lSEVj6qS1xtV"
      },
      "execution_count": null,
      "outputs": []
    },
    {
      "cell_type": "code",
      "source": [
        "best_params = gscv.best_params_\n",
        "best_params"
      ],
      "metadata": {
        "execution": {
          "iopub.status.busy": "2024-05-10T11:23:17.342325Z",
          "iopub.execute_input": "2024-05-10T11:23:17.342674Z",
          "iopub.status.idle": "2024-05-10T11:23:17.349201Z",
          "shell.execute_reply.started": "2024-05-10T11:23:17.342646Z",
          "shell.execute_reply": "2024-05-10T11:23:17.348157Z"
        },
        "trusted": true,
        "id": "opqfDRjZ1xtW"
      },
      "execution_count": null,
      "outputs": []
    },
    {
      "cell_type": "code",
      "source": [
        "model = gscv.best_estimator_\n",
        "model_eveluation(model)"
      ],
      "metadata": {
        "execution": {
          "iopub.status.busy": "2024-05-10T11:23:17.350437Z",
          "iopub.execute_input": "2024-05-10T11:23:17.350734Z",
          "iopub.status.idle": "2024-05-10T11:23:19.013734Z",
          "shell.execute_reply.started": "2024-05-10T11:23:17.350708Z",
          "shell.execute_reply": "2024-05-10T11:23:19.012563Z"
        },
        "trusted": true,
        "id": "RFLReTbr1xtW"
      },
      "execution_count": null,
      "outputs": []
    },
    {
      "cell_type": "code",
      "source": [
        "# from sklearn.model_selection import cross_val_score\n",
        "\n",
        "# for metric in ['f1', 'accuracy', 'precision', 'recall']:\n",
        "#     print(metric, '= ',cross_val_score(clf, features, target, cv=10, n_jobs = -1, scoring=metric).mean())"
      ],
      "metadata": {
        "execution": {
          "iopub.status.busy": "2024-05-10T11:23:19.015261Z",
          "iopub.execute_input": "2024-05-10T11:23:19.015672Z",
          "iopub.status.idle": "2024-05-10T11:23:19.020117Z",
          "shell.execute_reply.started": "2024-05-10T11:23:19.015641Z",
          "shell.execute_reply": "2024-05-10T11:23:19.019025Z"
        },
        "trusted": true,
        "id": "_SRN_E9p1xtW"
      },
      "execution_count": null,
      "outputs": []
    },
    {
      "cell_type": "markdown",
      "source": [
        "# Voting"
      ],
      "metadata": {
        "id": "75omK05t1xtW"
      }
    },
    {
      "cell_type": "code",
      "source": [
        "from sklearn.ensemble import VotingClassifier\n",
        "\n",
        "vote = VotingClassifier(estimators=[\n",
        "\n",
        "    ('logisticR', LogisticRegression(C=300, random_state=42)),\n",
        "    ('RF', RandomForestClassifier(n_estimators=100, random_state=42)),\n",
        "    ('svm', SVC(C=500, random_state=42, probability=True))\n",
        "], n_jobs= -1, verbose=True,  voting='soft') # 1- soft Soft Voting uses sum probablity from each model for each class\n",
        "                                             # 2- hard majority vote\n",
        "\n",
        "vote_pipe = Pipeline([\n",
        "\n",
        "    ('transfrom', transformer),\n",
        "    ('model', vote)\n",
        "])\n",
        "\n",
        "\n",
        "vote_pipe.fit(X_train, y_train)\n"
      ],
      "metadata": {
        "execution": {
          "iopub.status.busy": "2024-05-10T11:23:19.021438Z",
          "iopub.execute_input": "2024-05-10T11:23:19.021762Z",
          "iopub.status.idle": "2024-05-10T11:23:27.131451Z",
          "shell.execute_reply.started": "2024-05-10T11:23:19.021725Z",
          "shell.execute_reply": "2024-05-10T11:23:27.130288Z"
        },
        "trusted": true,
        "id": "fhSBfmzJ1xtW"
      },
      "execution_count": null,
      "outputs": []
    },
    {
      "cell_type": "code",
      "source": [
        "model_eveluation(vote_pipe)"
      ],
      "metadata": {
        "execution": {
          "iopub.status.busy": "2024-05-10T11:23:27.13273Z",
          "iopub.execute_input": "2024-05-10T11:23:27.13306Z",
          "iopub.status.idle": "2024-05-10T11:23:29.855088Z",
          "shell.execute_reply.started": "2024-05-10T11:23:27.133032Z",
          "shell.execute_reply": "2024-05-10T11:23:29.854Z"
        },
        "trusted": true,
        "id": "KwmjAoJ91xtX"
      },
      "execution_count": null,
      "outputs": []
    },
    {
      "cell_type": "code",
      "source": [
        "params = {\n",
        "\n",
        "    'model__estimators': [\n",
        "                          [('log', LogisticRegression(C=500, max_iter=1000)), ('svc', SVC(probability= True, C=500)) ],\n",
        "                          [('log', LogisticRegression(C=500, max_iter=1000)), ('svc', SVC(probability= True, C=500)), ('rf', RandomForestClassifier())],\n",
        "                          [('svc', SVC(probability= True, C=500)), ('rf', RandomForestClassifier())]\n",
        "\n",
        "                         ]\n",
        "}\n",
        "\n",
        "gscv = GridSearchCV(vote_pipe, params, cv=3, n_jobs=-1, scoring = 'f1')\n",
        "\n",
        "gscv.fit(X_train, y_train)"
      ],
      "metadata": {
        "execution": {
          "iopub.status.busy": "2024-05-10T11:23:29.856414Z",
          "iopub.execute_input": "2024-05-10T11:23:29.856766Z",
          "iopub.status.idle": "2024-05-10T11:23:58.4602Z",
          "shell.execute_reply.started": "2024-05-10T11:23:29.856738Z",
          "shell.execute_reply": "2024-05-10T11:23:58.459081Z"
        },
        "trusted": true,
        "id": "85WK07R91xtX"
      },
      "execution_count": null,
      "outputs": []
    },
    {
      "cell_type": "code",
      "source": [
        "print('best params', gscv.best_params_)\n",
        "print('best score', gscv.best_score_)\n",
        "best_model = gscv.best_estimator_\n",
        "best_model"
      ],
      "metadata": {
        "execution": {
          "iopub.status.busy": "2024-05-10T11:23:58.461719Z",
          "iopub.execute_input": "2024-05-10T11:23:58.462066Z",
          "iopub.status.idle": "2024-05-10T11:23:58.592775Z",
          "shell.execute_reply.started": "2024-05-10T11:23:58.462036Z",
          "shell.execute_reply": "2024-05-10T11:23:58.591723Z"
        },
        "trusted": true,
        "id": "FQizMeAk1xtX"
      },
      "execution_count": null,
      "outputs": []
    },
    {
      "cell_type": "code",
      "source": [
        "pd.DataFrame.from_dict(gscv.cv_results_)"
      ],
      "metadata": {
        "execution": {
          "iopub.status.busy": "2024-05-10T11:23:58.594383Z",
          "iopub.execute_input": "2024-05-10T11:23:58.594817Z",
          "iopub.status.idle": "2024-05-10T11:23:58.630932Z",
          "shell.execute_reply.started": "2024-05-10T11:23:58.594778Z",
          "shell.execute_reply": "2024-05-10T11:23:58.629868Z"
        },
        "trusted": true,
        "id": "ljqhLnYb1xtX"
      },
      "execution_count": null,
      "outputs": []
    },
    {
      "cell_type": "code",
      "source": [
        "model_eveluation(best_model)"
      ],
      "metadata": {
        "execution": {
          "iopub.status.busy": "2024-05-10T11:23:58.63233Z",
          "iopub.execute_input": "2024-05-10T11:23:58.63267Z",
          "iopub.status.idle": "2024-05-10T11:24:01.198078Z",
          "shell.execute_reply.started": "2024-05-10T11:23:58.632642Z",
          "shell.execute_reply": "2024-05-10T11:24:01.197018Z"
        },
        "trusted": true,
        "id": "JshL4znj1xtX"
      },
      "execution_count": null,
      "outputs": []
    },
    {
      "cell_type": "markdown",
      "source": [
        "# *Using Bagging*"
      ],
      "metadata": {
        "id": "JQ4yu0zP1xtY"
      }
    },
    {
      "cell_type": "code",
      "source": [
        "from sklearn.ensemble import BaggingClassifier # default estimator Decision Tree and n_estimators= 10\n",
        "\n",
        "#bc = BaggingClassifier(estimator= LogisticRegression(C =500, max_iter=1000, solver= 'newton-cg'), n_estimators= 200, n_jobs= -1, random_state = 42)\n",
        "\n",
        "#bc = BaggingClassifier(estimator= KNeighborsClassifier(n_neighbors=5), n_estimators= 100, n_jobs= -1, random_state = 42)\n",
        "\n",
        "bc = BaggingClassifier()\n",
        "bc_pipe = Pipeline([\n",
        "\n",
        "\n",
        "   ('transformer', transformer),\n",
        "   ('model', bc)\n",
        "\n",
        "])\n",
        "\n",
        "\n",
        "bc_pipe.fit(X_train, y_train)"
      ],
      "metadata": {
        "execution": {
          "iopub.status.busy": "2024-05-10T11:24:01.199609Z",
          "iopub.execute_input": "2024-05-10T11:24:01.200013Z",
          "iopub.status.idle": "2024-05-10T11:24:01.708077Z",
          "shell.execute_reply.started": "2024-05-10T11:24:01.199975Z",
          "shell.execute_reply": "2024-05-10T11:24:01.706973Z"
        },
        "trusted": true,
        "id": "phT5o--t1xtY"
      },
      "execution_count": null,
      "outputs": []
    },
    {
      "cell_type": "code",
      "source": [
        "model_eveluation(bc_pipe)"
      ],
      "metadata": {
        "execution": {
          "iopub.status.busy": "2024-05-10T11:24:01.709675Z",
          "iopub.execute_input": "2024-05-10T11:24:01.710083Z",
          "iopub.status.idle": "2024-05-10T11:24:02.070506Z",
          "shell.execute_reply.started": "2024-05-10T11:24:01.710046Z",
          "shell.execute_reply": "2024-05-10T11:24:02.069404Z"
        },
        "trusted": true,
        "id": "mpBAmTJh1xtY"
      },
      "execution_count": null,
      "outputs": []
    },
    {
      "cell_type": "code",
      "source": [
        "from sklearn.tree import DecisionTreeClassifier\n",
        "params = {\n",
        "\n",
        "    'model__estimator':[LogisticRegression(), KNeighborsClassifier(), DecisionTreeClassifier()],\n",
        "    'model__n_estimators': [50,100,150]\n",
        "\n",
        "}\n",
        "\n",
        "gscv = GridSearchCV(bc_pipe, params, cv=3, n_jobs=-1, scoring='accuracy')\n",
        "\n",
        "gscv.fit(X_train, y_train)"
      ],
      "metadata": {
        "execution": {
          "iopub.status.busy": "2024-05-10T11:24:02.071896Z",
          "iopub.execute_input": "2024-05-10T11:24:02.072216Z",
          "iopub.status.idle": "2024-05-10T11:25:00.369772Z",
          "shell.execute_reply.started": "2024-05-10T11:24:02.072188Z",
          "shell.execute_reply": "2024-05-10T11:25:00.368572Z"
        },
        "trusted": true,
        "id": "Qx2AWzOC1xtY"
      },
      "execution_count": null,
      "outputs": []
    },
    {
      "cell_type": "code",
      "source": [
        "gscv.best_params_"
      ],
      "metadata": {
        "execution": {
          "iopub.status.busy": "2024-05-10T11:25:13.782942Z",
          "iopub.execute_input": "2024-05-10T11:25:13.784729Z",
          "iopub.status.idle": "2024-05-10T11:25:13.791572Z",
          "shell.execute_reply.started": "2024-05-10T11:25:13.784694Z",
          "shell.execute_reply": "2024-05-10T11:25:13.790591Z"
        },
        "trusted": true,
        "id": "bLCGjB_h1xtZ"
      },
      "execution_count": null,
      "outputs": []
    },
    {
      "cell_type": "code",
      "source": [
        "model_eveluation(gscv)"
      ],
      "metadata": {
        "execution": {
          "iopub.status.busy": "2024-05-10T11:25:17.200711Z",
          "iopub.execute_input": "2024-05-10T11:25:17.201094Z",
          "iopub.status.idle": "2024-05-10T11:25:17.7396Z",
          "shell.execute_reply.started": "2024-05-10T11:25:17.201066Z",
          "shell.execute_reply": "2024-05-10T11:25:17.738387Z"
        },
        "trusted": true,
        "id": "KRBMJWU91xtZ"
      },
      "execution_count": null,
      "outputs": []
    },
    {
      "cell_type": "markdown",
      "source": [
        "# *Neural Network*"
      ],
      "metadata": {
        "id": "Vp_RqyvL1xtZ"
      }
    },
    {
      "cell_type": "code",
      "source": [
        "from sklearn.neural_network import MLPClassifier\n",
        "\n",
        "# clf = MLPClassifier(hidden_layer_sizes= (150),\n",
        "#                     activation=\"relu\",\n",
        "#                     solver=\"adam\",\n",
        "#                     learning_rate=\"adaptive\",\n",
        "#                     learning_rate_init=0.001,\n",
        "#                     max_iter=500,\n",
        "#                    validation_fraction=0.1)\n",
        "\n",
        "clf = MLPClassifier(max_iter = 2000)\n",
        "\n",
        "\n",
        "mlp_pipe = Pipeline([\n",
        "\n",
        "    ('transformer', transformer),\n",
        "    ('clf', clf)\n",
        "])\n",
        "\n",
        "mlp_pipe.fit(X_train, y_train)"
      ],
      "metadata": {
        "execution": {
          "iopub.status.busy": "2024-05-10T11:25:23.928696Z",
          "iopub.execute_input": "2024-05-10T11:25:23.92914Z",
          "iopub.status.idle": "2024-05-10T11:25:55.338547Z",
          "shell.execute_reply.started": "2024-05-10T11:25:23.929108Z",
          "shell.execute_reply": "2024-05-10T11:25:55.337352Z"
        },
        "trusted": true,
        "id": "euly72Lj1xtZ"
      },
      "execution_count": null,
      "outputs": []
    },
    {
      "cell_type": "code",
      "source": [
        "model_eveluation(mlp_pipe)"
      ],
      "metadata": {
        "execution": {
          "iopub.status.busy": "2024-05-10T11:26:38.394548Z",
          "iopub.execute_input": "2024-05-10T11:26:38.394983Z",
          "iopub.status.idle": "2024-05-10T11:26:38.773704Z",
          "shell.execute_reply.started": "2024-05-10T11:26:38.39495Z",
          "shell.execute_reply": "2024-05-10T11:26:38.772581Z"
        },
        "trusted": true,
        "id": "L4tBTr2i1xtZ"
      },
      "execution_count": null,
      "outputs": []
    },
    {
      "cell_type": "code",
      "source": [
        "params = {\n",
        "\n",
        "    'clf__hidden_layer_sizes':[(50), (50,100), (50,100,150)],\n",
        "    'clf__learning_rate':['constant', 'adaptive'],\n",
        "    'clf__learning_rate_init':[0.001,0.01, 0.0001],\n",
        "    'clf__alpha':[0.01,0.001,1,200, 500],\n",
        "    'clf__activation':['relu', 'logistic', 'tanh'],\n",
        "\n",
        "\n",
        "\n",
        "\n",
        "}\n",
        "\n",
        "gscv = GridSearchCV(mlp_pipe, params, cv=3, n_jobs=-1, scoring= 'f1')\n",
        "\n",
        "gscv.fit(X_train, y_train)"
      ],
      "metadata": {
        "execution": {
          "iopub.status.busy": "2024-05-10T11:26:44.015351Z",
          "iopub.execute_input": "2024-05-10T11:26:44.015754Z",
          "iopub.status.idle": "2024-05-10T12:34:51.6324Z",
          "shell.execute_reply.started": "2024-05-10T11:26:44.015724Z",
          "shell.execute_reply": "2024-05-10T12:34:51.63118Z"
        },
        "trusted": true,
        "id": "9txoQd9O1xta"
      },
      "execution_count": null,
      "outputs": []
    },
    {
      "cell_type": "code",
      "source": [
        "gscv.best_score_"
      ],
      "metadata": {
        "execution": {
          "iopub.status.busy": "2024-05-10T13:12:51.728017Z",
          "iopub.execute_input": "2024-05-10T13:12:51.72851Z",
          "iopub.status.idle": "2024-05-10T13:12:51.735756Z",
          "shell.execute_reply.started": "2024-05-10T13:12:51.728471Z",
          "shell.execute_reply": "2024-05-10T13:12:51.734699Z"
        },
        "trusted": true,
        "id": "YvYoMhOP1xta"
      },
      "execution_count": null,
      "outputs": []
    },
    {
      "cell_type": "code",
      "source": [
        "gscv.best_params_"
      ],
      "metadata": {
        "execution": {
          "iopub.status.busy": "2024-05-10T13:12:23.209526Z",
          "iopub.execute_input": "2024-05-10T13:12:23.212822Z",
          "iopub.status.idle": "2024-05-10T13:12:23.227407Z",
          "shell.execute_reply.started": "2024-05-10T13:12:23.212753Z",
          "shell.execute_reply": "2024-05-10T13:12:23.226113Z"
        },
        "trusted": true,
        "id": "-iIXY8LD1xta"
      },
      "execution_count": null,
      "outputs": []
    },
    {
      "cell_type": "code",
      "source": [
        "model_eveluation(gscv.best_estimator_)"
      ],
      "metadata": {
        "execution": {
          "iopub.status.busy": "2024-05-10T13:13:41.076825Z",
          "iopub.execute_input": "2024-05-10T13:13:41.077349Z",
          "iopub.status.idle": "2024-05-10T13:13:41.549667Z",
          "shell.execute_reply.started": "2024-05-10T13:13:41.077309Z",
          "shell.execute_reply": "2024-05-10T13:13:41.548463Z"
        },
        "trusted": true,
        "id": "Fu2l4ZA_1xta"
      },
      "execution_count": null,
      "outputs": []
    },
    {
      "cell_type": "code",
      "source": [
        "from sklearn.model_selection import RandomizedSearchCV\n",
        "\n",
        "rscv = RandomizedSearchCV(mlp_pipe, params, n_jobs=-1, scoring='f1', cv=2, n_iter=150)\n",
        "\n",
        "rscv.fit(X_train, y_train)"
      ],
      "metadata": {
        "execution": {
          "iopub.status.busy": "2024-05-10T13:16:37.460201Z",
          "iopub.execute_input": "2024-05-10T13:16:37.461173Z",
          "iopub.status.idle": "2024-05-10T13:38:34.958969Z",
          "shell.execute_reply.started": "2024-05-10T13:16:37.461133Z",
          "shell.execute_reply": "2024-05-10T13:38:34.957017Z"
        },
        "trusted": true,
        "id": "jkG3Mcp91xtb"
      },
      "execution_count": null,
      "outputs": []
    },
    {
      "cell_type": "code",
      "source": [
        "rscv.best_params_"
      ],
      "metadata": {
        "execution": {
          "iopub.status.busy": "2024-05-10T13:41:54.450355Z",
          "iopub.execute_input": "2024-05-10T13:41:54.450882Z",
          "iopub.status.idle": "2024-05-10T13:41:54.459425Z",
          "shell.execute_reply.started": "2024-05-10T13:41:54.45084Z",
          "shell.execute_reply": "2024-05-10T13:41:54.458098Z"
        },
        "trusted": true,
        "id": "hRcdd_nt1xtb"
      },
      "execution_count": null,
      "outputs": []
    },
    {
      "cell_type": "code",
      "source": [
        "pd.DataFrame(rscv.cv_results_).sort_values('mean_test_score', ascending = False)"
      ],
      "metadata": {
        "execution": {
          "iopub.status.busy": "2024-05-10T13:42:47.684177Z",
          "iopub.execute_input": "2024-05-10T13:42:47.685222Z",
          "iopub.status.idle": "2024-05-10T13:42:47.724482Z",
          "shell.execute_reply.started": "2024-05-10T13:42:47.685181Z",
          "shell.execute_reply": "2024-05-10T13:42:47.723051Z"
        },
        "trusted": true,
        "id": "o1imH2c31xtb"
      },
      "execution_count": null,
      "outputs": []
    },
    {
      "cell_type": "code",
      "source": [
        "model_eveluation(rscv.best_estimator_)"
      ],
      "metadata": {
        "execution": {
          "iopub.status.busy": "2024-05-10T13:42:01.455293Z",
          "iopub.execute_input": "2024-05-10T13:42:01.455689Z",
          "iopub.status.idle": "2024-05-10T13:42:02.130387Z",
          "shell.execute_reply.started": "2024-05-10T13:42:01.45566Z",
          "shell.execute_reply": "2024-05-10T13:42:02.129197Z"
        },
        "trusted": true,
        "id": "PQjQmbwh1xtb"
      },
      "execution_count": null,
      "outputs": []
    },
    {
      "cell_type": "code",
      "source": [
        "cross_val_score(rscv.best_estimator_, features, target, cv= 5, n_jobs= -1, scoring='f1' ).mean()"
      ],
      "metadata": {
        "execution": {
          "iopub.status.busy": "2024-05-10T13:42:11.300909Z",
          "iopub.execute_input": "2024-05-10T13:42:11.301374Z",
          "iopub.status.idle": "2024-05-10T13:42:38.744226Z",
          "shell.execute_reply.started": "2024-05-10T13:42:11.301338Z",
          "shell.execute_reply": "2024-05-10T13:42:38.743007Z"
        },
        "trusted": true,
        "id": "f9iZPN_b1xtb"
      },
      "execution_count": null,
      "outputs": []
    }
  ]
}